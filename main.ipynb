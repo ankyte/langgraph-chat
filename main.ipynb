{
 "cells": [
  {
   "cell_type": "code",
   "execution_count": 7,
   "id": "efa41a6a",
   "metadata": {},
   "outputs": [
    {
     "data": {
      "text/plain": [
       "True"
      ]
     },
     "execution_count": 7,
     "metadata": {},
     "output_type": "execute_result"
    }
   ],
   "source": [
    "from chatgraph import Graph\n",
    "from langchain_core.messages import HumanMessage\n",
    "from util import state_manager\n",
    "from dotenv import load_dotenv\n",
    "load_dotenv()\n"
   ]
  },
  {
   "cell_type": "code",
   "execution_count": 8,
   "id": "5f6f67c3",
   "metadata": {},
   "outputs": [],
   "source": [
    "from langchain.agents.agent_types import AgentType\n",
    "from langchain_experimental.agents.agent_toolkits import create_pandas_dataframe_agent\n",
    "from langchain_openai import ChatOpenAI"
   ]
  },
  {
   "cell_type": "code",
   "execution_count": 11,
   "id": "b2a6baa4",
   "metadata": {},
   "outputs": [],
   "source": [
    "import pandas as pd\n",
    "from langchain_openai import OpenAI\n",
    "\n",
    "\n",
    "df = pd.DataFrame({\n",
    "    'a': [1,2,3,4,5,6],\n",
    "    'b': [10,12,4345,124,5,3]\n",
    "})"
   ]
  },
  {
   "cell_type": "code",
   "execution_count": 19,
   "id": "1c3e808f",
   "metadata": {},
   "outputs": [
    {
     "name": "stderr",
     "output_type": "stream",
     "text": [
      "C:\\Users\\foliopilot\\AppData\\Local\\Temp\\ipykernel_10188\\4058811192.py:6: LangChainDeprecationWarning: The method `Chain.run` was deprecated in langchain 0.1.0 and will be removed in 1.0. Use :meth:`~invoke` instead.\n",
      "  res = agent.run(\"sort the df\")\n"
     ]
    },
    {
     "name": "stdout",
     "output_type": "stream",
     "text": [
      "\n",
      "\n",
      "\u001b[1m> Entering new AgentExecutor chain...\u001b[0m\n",
      "\u001b[32;1m\u001b[1;3mThought: I need to sort the dataframe `df`. Since no specific column or order is specified, I will assume sorting by all columns in ascending order.\n",
      "\n",
      "Action: python_repl_ast\n",
      "\n",
      "Action Input: df.sort_values(by=df.columns.tolist())\n",
      "\u001b[0m\u001b[36;1m\u001b[1;3m   a     b\n",
      "0  1    10\n",
      "1  2    12\n",
      "2  3  4345\n",
      "3  4   124\n",
      "4  5     5\n",
      "5  6     3\u001b[0m\u001b[32;1m\u001b[1;3mFinal Answer: The dataframe `df` has been sorted in ascending order by all columns.\u001b[0m\n",
      "\n",
      "\u001b[1m> Finished chain.\u001b[0m\n"
     ]
    }
   ],
   "source": [
    "agent = create_pandas_dataframe_agent(\n",
    "    ChatOpenAI(temperature=0, model=\"gpt-4.1-nano\"),\n",
    "    df, verbose=True, \n",
    "    allow_dangerous_code=True)\n",
    "\n",
    "res = agent.run(\"sort the df\")\n",
    "\n"
   ]
  },
  {
   "cell_type": "code",
   "execution_count": 20,
   "id": "42868321",
   "metadata": {},
   "outputs": [
    {
     "data": {
      "text/plain": [
       "'The dataframe `df` has been sorted in ascending order by all columns.'"
      ]
     },
     "execution_count": 20,
     "metadata": {},
     "output_type": "execute_result"
    }
   ],
   "source": [
    "res"
   ]
  },
  {
   "cell_type": "code",
   "execution_count": 2,
   "id": "fc01c1ce",
   "metadata": {},
   "outputs": [],
   "source": [
    "graph = Graph().get()\n",
    "config = {\n",
    "    \"configurable\": {\n",
    "        \"thread_id\": 2\n",
    "    }\n",
    "}"
   ]
  },
  {
   "cell_type": "code",
   "execution_count": 3,
   "id": "c6c7641d",
   "metadata": {},
   "outputs": [
    {
     "name": "stdout",
     "output_type": "stream",
     "text": [
      "{'event': 'on_chain_start', 'data': {'input': {'messages': [HumanMessage(content='can you fetch data for ABC-AGG for 20 March 2025', additional_kwargs={}, response_metadata={})]}}, 'name': 'LangGraph', 'tags': [], 'run_id': '8941b627-f680-4801-8d6b-90579053280b', 'metadata': {'thread_id': 2}, 'parent_ids': []}\n",
      "{'event': 'on_chain_start', 'data': {'input': {'messages': [HumanMessage(content='can you fetch data for ABC-AGG for 20 March 2025', additional_kwargs={}, response_metadata={}, id='58566cc6-5365-41d8-ab88-2d4d5786e8a8')]}}, 'name': 'model', 'tags': ['graph:step:1'], 'run_id': '8ea1836c-0fcf-43a3-9456-798c619ec3b1', 'metadata': {'thread_id': 2, 'langgraph_step': 1, 'langgraph_node': 'model', 'langgraph_triggers': ('branch:to:model',), 'langgraph_path': ('__pregel_pull', 'model'), 'langgraph_checkpoint_ns': 'model:93f7a5b1-e5c2-68f7-4075-8f55a03668a2'}, 'parent_ids': ['8941b627-f680-4801-8d6b-90579053280b']}\n",
      "{'event': 'on_chat_model_start', 'data': {'input': {'messages': [[HumanMessage(content='can you fetch data for ABC-AGG for 20 March 2025', additional_kwargs={}, response_metadata={}, id='58566cc6-5365-41d8-ab88-2d4d5786e8a8')]]}}, 'name': 'ChatOpenAI', 'tags': ['seq:step:1'], 'run_id': '0dc33640-9505-44db-b928-e76c7f503610', 'metadata': {'thread_id': 2, 'langgraph_step': 1, 'langgraph_node': 'model', 'langgraph_triggers': ('branch:to:model',), 'langgraph_path': ('__pregel_pull', 'model'), 'langgraph_checkpoint_ns': 'model:93f7a5b1-e5c2-68f7-4075-8f55a03668a2', 'checkpoint_ns': 'model:93f7a5b1-e5c2-68f7-4075-8f55a03668a2', 'ls_provider': 'openai', 'ls_model_name': 'gpt-4.1-nano', 'ls_model_type': 'chat', 'ls_temperature': None}, 'parent_ids': ['8941b627-f680-4801-8d6b-90579053280b', '8ea1836c-0fcf-43a3-9456-798c619ec3b1']}\n",
      "{'event': 'on_chat_model_stream', 'data': {'chunk': AIMessageChunk(content='', additional_kwargs={'tool_calls': [{'index': 0, 'id': 'call_as1pBiJtlZH2kydjZYPVzMoq', 'function': {'arguments': '', 'name': 'data_fetch_tool'}, 'type': 'function'}]}, response_metadata={}, id='run--0dc33640-9505-44db-b928-e76c7f503610', tool_calls=[{'name': 'data_fetch_tool', 'args': {}, 'id': 'call_as1pBiJtlZH2kydjZYPVzMoq', 'type': 'tool_call'}], tool_call_chunks=[{'name': 'data_fetch_tool', 'args': '', 'id': 'call_as1pBiJtlZH2kydjZYPVzMoq', 'index': 0, 'type': 'tool_call_chunk'}])}, 'run_id': '0dc33640-9505-44db-b928-e76c7f503610', 'name': 'ChatOpenAI', 'tags': ['seq:step:1'], 'metadata': {'thread_id': 2, 'langgraph_step': 1, 'langgraph_node': 'model', 'langgraph_triggers': ('branch:to:model',), 'langgraph_path': ('__pregel_pull', 'model'), 'langgraph_checkpoint_ns': 'model:93f7a5b1-e5c2-68f7-4075-8f55a03668a2', 'checkpoint_ns': 'model:93f7a5b1-e5c2-68f7-4075-8f55a03668a2', 'ls_provider': 'openai', 'ls_model_name': 'gpt-4.1-nano', 'ls_model_type': 'chat', 'ls_temperature': None}, 'parent_ids': ['8941b627-f680-4801-8d6b-90579053280b', '8ea1836c-0fcf-43a3-9456-798c619ec3b1']}\n",
      "{'event': 'on_chat_model_stream', 'data': {'chunk': AIMessageChunk(content='', additional_kwargs={'tool_calls': [{'index': 0, 'id': None, 'function': {'arguments': '{\"', 'name': None}, 'type': None}]}, response_metadata={}, id='run--0dc33640-9505-44db-b928-e76c7f503610', tool_calls=[{'name': '', 'args': {}, 'id': None, 'type': 'tool_call'}], tool_call_chunks=[{'name': None, 'args': '{\"', 'id': None, 'index': 0, 'type': 'tool_call_chunk'}])}, 'run_id': '0dc33640-9505-44db-b928-e76c7f503610', 'name': 'ChatOpenAI', 'tags': ['seq:step:1'], 'metadata': {'thread_id': 2, 'langgraph_step': 1, 'langgraph_node': 'model', 'langgraph_triggers': ('branch:to:model',), 'langgraph_path': ('__pregel_pull', 'model'), 'langgraph_checkpoint_ns': 'model:93f7a5b1-e5c2-68f7-4075-8f55a03668a2', 'checkpoint_ns': 'model:93f7a5b1-e5c2-68f7-4075-8f55a03668a2', 'ls_provider': 'openai', 'ls_model_name': 'gpt-4.1-nano', 'ls_model_type': 'chat', 'ls_temperature': None}, 'parent_ids': ['8941b627-f680-4801-8d6b-90579053280b', '8ea1836c-0fcf-43a3-9456-798c619ec3b1']}\n",
      "{'event': 'on_chat_model_stream', 'data': {'chunk': AIMessageChunk(content='', additional_kwargs={'tool_calls': [{'index': 0, 'id': None, 'function': {'arguments': 'a', 'name': None}, 'type': None}]}, response_metadata={}, id='run--0dc33640-9505-44db-b928-e76c7f503610', invalid_tool_calls=[{'name': None, 'args': 'a', 'id': None, 'error': None, 'type': 'invalid_tool_call'}], tool_call_chunks=[{'name': None, 'args': 'a', 'id': None, 'index': 0, 'type': 'tool_call_chunk'}])}, 'run_id': '0dc33640-9505-44db-b928-e76c7f503610', 'name': 'ChatOpenAI', 'tags': ['seq:step:1'], 'metadata': {'thread_id': 2, 'langgraph_step': 1, 'langgraph_node': 'model', 'langgraph_triggers': ('branch:to:model',), 'langgraph_path': ('__pregel_pull', 'model'), 'langgraph_checkpoint_ns': 'model:93f7a5b1-e5c2-68f7-4075-8f55a03668a2', 'checkpoint_ns': 'model:93f7a5b1-e5c2-68f7-4075-8f55a03668a2', 'ls_provider': 'openai', 'ls_model_name': 'gpt-4.1-nano', 'ls_model_type': 'chat', 'ls_temperature': None}, 'parent_ids': ['8941b627-f680-4801-8d6b-90579053280b', '8ea1836c-0fcf-43a3-9456-798c619ec3b1']}\n",
      "{'event': 'on_chat_model_stream', 'data': {'chunk': AIMessageChunk(content='', additional_kwargs={'tool_calls': [{'index': 0, 'id': None, 'function': {'arguments': '\":\"', 'name': None}, 'type': None}]}, response_metadata={}, id='run--0dc33640-9505-44db-b928-e76c7f503610', invalid_tool_calls=[{'name': None, 'args': '\":\"', 'id': None, 'error': None, 'type': 'invalid_tool_call'}], tool_call_chunks=[{'name': None, 'args': '\":\"', 'id': None, 'index': 0, 'type': 'tool_call_chunk'}])}, 'run_id': '0dc33640-9505-44db-b928-e76c7f503610', 'name': 'ChatOpenAI', 'tags': ['seq:step:1'], 'metadata': {'thread_id': 2, 'langgraph_step': 1, 'langgraph_node': 'model', 'langgraph_triggers': ('branch:to:model',), 'langgraph_path': ('__pregel_pull', 'model'), 'langgraph_checkpoint_ns': 'model:93f7a5b1-e5c2-68f7-4075-8f55a03668a2', 'checkpoint_ns': 'model:93f7a5b1-e5c2-68f7-4075-8f55a03668a2', 'ls_provider': 'openai', 'ls_model_name': 'gpt-4.1-nano', 'ls_model_type': 'chat', 'ls_temperature': None}, 'parent_ids': ['8941b627-f680-4801-8d6b-90579053280b', '8ea1836c-0fcf-43a3-9456-798c619ec3b1']}\n",
      "{'event': 'on_chat_model_stream', 'data': {'chunk': AIMessageChunk(content='', additional_kwargs={'tool_calls': [{'index': 0, 'id': None, 'function': {'arguments': 'ABC', 'name': None}, 'type': None}]}, response_metadata={}, id='run--0dc33640-9505-44db-b928-e76c7f503610', invalid_tool_calls=[{'name': None, 'args': 'ABC', 'id': None, 'error': None, 'type': 'invalid_tool_call'}], tool_call_chunks=[{'name': None, 'args': 'ABC', 'id': None, 'index': 0, 'type': 'tool_call_chunk'}])}, 'run_id': '0dc33640-9505-44db-b928-e76c7f503610', 'name': 'ChatOpenAI', 'tags': ['seq:step:1'], 'metadata': {'thread_id': 2, 'langgraph_step': 1, 'langgraph_node': 'model', 'langgraph_triggers': ('branch:to:model',), 'langgraph_path': ('__pregel_pull', 'model'), 'langgraph_checkpoint_ns': 'model:93f7a5b1-e5c2-68f7-4075-8f55a03668a2', 'checkpoint_ns': 'model:93f7a5b1-e5c2-68f7-4075-8f55a03668a2', 'ls_provider': 'openai', 'ls_model_name': 'gpt-4.1-nano', 'ls_model_type': 'chat', 'ls_temperature': None}, 'parent_ids': ['8941b627-f680-4801-8d6b-90579053280b', '8ea1836c-0fcf-43a3-9456-798c619ec3b1']}\n",
      "{'event': 'on_chat_model_stream', 'data': {'chunk': AIMessageChunk(content='', additional_kwargs={'tool_calls': [{'index': 0, 'id': None, 'function': {'arguments': '-', 'name': None}, 'type': None}]}, response_metadata={}, id='run--0dc33640-9505-44db-b928-e76c7f503610', invalid_tool_calls=[{'name': None, 'args': '-', 'id': None, 'error': None, 'type': 'invalid_tool_call'}], tool_call_chunks=[{'name': None, 'args': '-', 'id': None, 'index': 0, 'type': 'tool_call_chunk'}])}, 'run_id': '0dc33640-9505-44db-b928-e76c7f503610', 'name': 'ChatOpenAI', 'tags': ['seq:step:1'], 'metadata': {'thread_id': 2, 'langgraph_step': 1, 'langgraph_node': 'model', 'langgraph_triggers': ('branch:to:model',), 'langgraph_path': ('__pregel_pull', 'model'), 'langgraph_checkpoint_ns': 'model:93f7a5b1-e5c2-68f7-4075-8f55a03668a2', 'checkpoint_ns': 'model:93f7a5b1-e5c2-68f7-4075-8f55a03668a2', 'ls_provider': 'openai', 'ls_model_name': 'gpt-4.1-nano', 'ls_model_type': 'chat', 'ls_temperature': None}, 'parent_ids': ['8941b627-f680-4801-8d6b-90579053280b', '8ea1836c-0fcf-43a3-9456-798c619ec3b1']}\n",
      "{'event': 'on_chat_model_stream', 'data': {'chunk': AIMessageChunk(content='', additional_kwargs={'tool_calls': [{'index': 0, 'id': None, 'function': {'arguments': 'AG', 'name': None}, 'type': None}]}, response_metadata={}, id='run--0dc33640-9505-44db-b928-e76c7f503610', invalid_tool_calls=[{'name': None, 'args': 'AG', 'id': None, 'error': None, 'type': 'invalid_tool_call'}], tool_call_chunks=[{'name': None, 'args': 'AG', 'id': None, 'index': 0, 'type': 'tool_call_chunk'}])}, 'run_id': '0dc33640-9505-44db-b928-e76c7f503610', 'name': 'ChatOpenAI', 'tags': ['seq:step:1'], 'metadata': {'thread_id': 2, 'langgraph_step': 1, 'langgraph_node': 'model', 'langgraph_triggers': ('branch:to:model',), 'langgraph_path': ('__pregel_pull', 'model'), 'langgraph_checkpoint_ns': 'model:93f7a5b1-e5c2-68f7-4075-8f55a03668a2', 'checkpoint_ns': 'model:93f7a5b1-e5c2-68f7-4075-8f55a03668a2', 'ls_provider': 'openai', 'ls_model_name': 'gpt-4.1-nano', 'ls_model_type': 'chat', 'ls_temperature': None}, 'parent_ids': ['8941b627-f680-4801-8d6b-90579053280b', '8ea1836c-0fcf-43a3-9456-798c619ec3b1']}\n",
      "{'event': 'on_chat_model_stream', 'data': {'chunk': AIMessageChunk(content='', additional_kwargs={'tool_calls': [{'index': 0, 'id': None, 'function': {'arguments': 'G', 'name': None}, 'type': None}]}, response_metadata={}, id='run--0dc33640-9505-44db-b928-e76c7f503610', invalid_tool_calls=[{'name': None, 'args': 'G', 'id': None, 'error': None, 'type': 'invalid_tool_call'}], tool_call_chunks=[{'name': None, 'args': 'G', 'id': None, 'index': 0, 'type': 'tool_call_chunk'}])}, 'run_id': '0dc33640-9505-44db-b928-e76c7f503610', 'name': 'ChatOpenAI', 'tags': ['seq:step:1'], 'metadata': {'thread_id': 2, 'langgraph_step': 1, 'langgraph_node': 'model', 'langgraph_triggers': ('branch:to:model',), 'langgraph_path': ('__pregel_pull', 'model'), 'langgraph_checkpoint_ns': 'model:93f7a5b1-e5c2-68f7-4075-8f55a03668a2', 'checkpoint_ns': 'model:93f7a5b1-e5c2-68f7-4075-8f55a03668a2', 'ls_provider': 'openai', 'ls_model_name': 'gpt-4.1-nano', 'ls_model_type': 'chat', 'ls_temperature': None}, 'parent_ids': ['8941b627-f680-4801-8d6b-90579053280b', '8ea1836c-0fcf-43a3-9456-798c619ec3b1']}\n",
      "{'event': 'on_chat_model_stream', 'data': {'chunk': AIMessageChunk(content='', additional_kwargs={'tool_calls': [{'index': 0, 'id': None, 'function': {'arguments': '\",\"', 'name': None}, 'type': None}]}, response_metadata={}, id='run--0dc33640-9505-44db-b928-e76c7f503610', invalid_tool_calls=[{'name': None, 'args': '\",\"', 'id': None, 'error': None, 'type': 'invalid_tool_call'}], tool_call_chunks=[{'name': None, 'args': '\",\"', 'id': None, 'index': 0, 'type': 'tool_call_chunk'}])}, 'run_id': '0dc33640-9505-44db-b928-e76c7f503610', 'name': 'ChatOpenAI', 'tags': ['seq:step:1'], 'metadata': {'thread_id': 2, 'langgraph_step': 1, 'langgraph_node': 'model', 'langgraph_triggers': ('branch:to:model',), 'langgraph_path': ('__pregel_pull', 'model'), 'langgraph_checkpoint_ns': 'model:93f7a5b1-e5c2-68f7-4075-8f55a03668a2', 'checkpoint_ns': 'model:93f7a5b1-e5c2-68f7-4075-8f55a03668a2', 'ls_provider': 'openai', 'ls_model_name': 'gpt-4.1-nano', 'ls_model_type': 'chat', 'ls_temperature': None}, 'parent_ids': ['8941b627-f680-4801-8d6b-90579053280b', '8ea1836c-0fcf-43a3-9456-798c619ec3b1']}\n",
      "{'event': 'on_chat_model_stream', 'data': {'chunk': AIMessageChunk(content='', additional_kwargs={'tool_calls': [{'index': 0, 'id': None, 'function': {'arguments': 'b', 'name': None}, 'type': None}]}, response_metadata={}, id='run--0dc33640-9505-44db-b928-e76c7f503610', invalid_tool_calls=[{'name': None, 'args': 'b', 'id': None, 'error': None, 'type': 'invalid_tool_call'}], tool_call_chunks=[{'name': None, 'args': 'b', 'id': None, 'index': 0, 'type': 'tool_call_chunk'}])}, 'run_id': '0dc33640-9505-44db-b928-e76c7f503610', 'name': 'ChatOpenAI', 'tags': ['seq:step:1'], 'metadata': {'thread_id': 2, 'langgraph_step': 1, 'langgraph_node': 'model', 'langgraph_triggers': ('branch:to:model',), 'langgraph_path': ('__pregel_pull', 'model'), 'langgraph_checkpoint_ns': 'model:93f7a5b1-e5c2-68f7-4075-8f55a03668a2', 'checkpoint_ns': 'model:93f7a5b1-e5c2-68f7-4075-8f55a03668a2', 'ls_provider': 'openai', 'ls_model_name': 'gpt-4.1-nano', 'ls_model_type': 'chat', 'ls_temperature': None}, 'parent_ids': ['8941b627-f680-4801-8d6b-90579053280b', '8ea1836c-0fcf-43a3-9456-798c619ec3b1']}\n",
      "{'event': 'on_chat_model_stream', 'data': {'chunk': AIMessageChunk(content='', additional_kwargs={'tool_calls': [{'index': 0, 'id': None, 'function': {'arguments': '\":\"', 'name': None}, 'type': None}]}, response_metadata={}, id='run--0dc33640-9505-44db-b928-e76c7f503610', invalid_tool_calls=[{'name': None, 'args': '\":\"', 'id': None, 'error': None, 'type': 'invalid_tool_call'}], tool_call_chunks=[{'name': None, 'args': '\":\"', 'id': None, 'index': 0, 'type': 'tool_call_chunk'}])}, 'run_id': '0dc33640-9505-44db-b928-e76c7f503610', 'name': 'ChatOpenAI', 'tags': ['seq:step:1'], 'metadata': {'thread_id': 2, 'langgraph_step': 1, 'langgraph_node': 'model', 'langgraph_triggers': ('branch:to:model',), 'langgraph_path': ('__pregel_pull', 'model'), 'langgraph_checkpoint_ns': 'model:93f7a5b1-e5c2-68f7-4075-8f55a03668a2', 'checkpoint_ns': 'model:93f7a5b1-e5c2-68f7-4075-8f55a03668a2', 'ls_provider': 'openai', 'ls_model_name': 'gpt-4.1-nano', 'ls_model_type': 'chat', 'ls_temperature': None}, 'parent_ids': ['8941b627-f680-4801-8d6b-90579053280b', '8ea1836c-0fcf-43a3-9456-798c619ec3b1']}\n",
      "{'event': 'on_chat_model_stream', 'data': {'chunk': AIMessageChunk(content='', additional_kwargs={'tool_calls': [{'index': 0, 'id': None, 'function': {'arguments': '202', 'name': None}, 'type': None}]}, response_metadata={}, id='run--0dc33640-9505-44db-b928-e76c7f503610', invalid_tool_calls=[{'name': None, 'args': '202', 'id': None, 'error': None, 'type': 'invalid_tool_call'}], tool_call_chunks=[{'name': None, 'args': '202', 'id': None, 'index': 0, 'type': 'tool_call_chunk'}])}, 'run_id': '0dc33640-9505-44db-b928-e76c7f503610', 'name': 'ChatOpenAI', 'tags': ['seq:step:1'], 'metadata': {'thread_id': 2, 'langgraph_step': 1, 'langgraph_node': 'model', 'langgraph_triggers': ('branch:to:model',), 'langgraph_path': ('__pregel_pull', 'model'), 'langgraph_checkpoint_ns': 'model:93f7a5b1-e5c2-68f7-4075-8f55a03668a2', 'checkpoint_ns': 'model:93f7a5b1-e5c2-68f7-4075-8f55a03668a2', 'ls_provider': 'openai', 'ls_model_name': 'gpt-4.1-nano', 'ls_model_type': 'chat', 'ls_temperature': None}, 'parent_ids': ['8941b627-f680-4801-8d6b-90579053280b', '8ea1836c-0fcf-43a3-9456-798c619ec3b1']}\n",
      "{'event': 'on_chat_model_stream', 'data': {'chunk': AIMessageChunk(content='', additional_kwargs={'tool_calls': [{'index': 0, 'id': None, 'function': {'arguments': '5', 'name': None}, 'type': None}]}, response_metadata={}, id='run--0dc33640-9505-44db-b928-e76c7f503610', invalid_tool_calls=[{'name': None, 'args': '5', 'id': None, 'error': None, 'type': 'invalid_tool_call'}], tool_call_chunks=[{'name': None, 'args': '5', 'id': None, 'index': 0, 'type': 'tool_call_chunk'}])}, 'run_id': '0dc33640-9505-44db-b928-e76c7f503610', 'name': 'ChatOpenAI', 'tags': ['seq:step:1'], 'metadata': {'thread_id': 2, 'langgraph_step': 1, 'langgraph_node': 'model', 'langgraph_triggers': ('branch:to:model',), 'langgraph_path': ('__pregel_pull', 'model'), 'langgraph_checkpoint_ns': 'model:93f7a5b1-e5c2-68f7-4075-8f55a03668a2', 'checkpoint_ns': 'model:93f7a5b1-e5c2-68f7-4075-8f55a03668a2', 'ls_provider': 'openai', 'ls_model_name': 'gpt-4.1-nano', 'ls_model_type': 'chat', 'ls_temperature': None}, 'parent_ids': ['8941b627-f680-4801-8d6b-90579053280b', '8ea1836c-0fcf-43a3-9456-798c619ec3b1']}\n",
      "{'event': 'on_chat_model_stream', 'data': {'chunk': AIMessageChunk(content='', additional_kwargs={'tool_calls': [{'index': 0, 'id': None, 'function': {'arguments': '-', 'name': None}, 'type': None}]}, response_metadata={}, id='run--0dc33640-9505-44db-b928-e76c7f503610', invalid_tool_calls=[{'name': None, 'args': '-', 'id': None, 'error': None, 'type': 'invalid_tool_call'}], tool_call_chunks=[{'name': None, 'args': '-', 'id': None, 'index': 0, 'type': 'tool_call_chunk'}])}, 'run_id': '0dc33640-9505-44db-b928-e76c7f503610', 'name': 'ChatOpenAI', 'tags': ['seq:step:1'], 'metadata': {'thread_id': 2, 'langgraph_step': 1, 'langgraph_node': 'model', 'langgraph_triggers': ('branch:to:model',), 'langgraph_path': ('__pregel_pull', 'model'), 'langgraph_checkpoint_ns': 'model:93f7a5b1-e5c2-68f7-4075-8f55a03668a2', 'checkpoint_ns': 'model:93f7a5b1-e5c2-68f7-4075-8f55a03668a2', 'ls_provider': 'openai', 'ls_model_name': 'gpt-4.1-nano', 'ls_model_type': 'chat', 'ls_temperature': None}, 'parent_ids': ['8941b627-f680-4801-8d6b-90579053280b', '8ea1836c-0fcf-43a3-9456-798c619ec3b1']}\n",
      "{'event': 'on_chat_model_stream', 'data': {'chunk': AIMessageChunk(content='', additional_kwargs={'tool_calls': [{'index': 0, 'id': None, 'function': {'arguments': '03', 'name': None}, 'type': None}]}, response_metadata={}, id='run--0dc33640-9505-44db-b928-e76c7f503610', invalid_tool_calls=[{'name': None, 'args': '03', 'id': None, 'error': None, 'type': 'invalid_tool_call'}], tool_call_chunks=[{'name': None, 'args': '03', 'id': None, 'index': 0, 'type': 'tool_call_chunk'}])}, 'run_id': '0dc33640-9505-44db-b928-e76c7f503610', 'name': 'ChatOpenAI', 'tags': ['seq:step:1'], 'metadata': {'thread_id': 2, 'langgraph_step': 1, 'langgraph_node': 'model', 'langgraph_triggers': ('branch:to:model',), 'langgraph_path': ('__pregel_pull', 'model'), 'langgraph_checkpoint_ns': 'model:93f7a5b1-e5c2-68f7-4075-8f55a03668a2', 'checkpoint_ns': 'model:93f7a5b1-e5c2-68f7-4075-8f55a03668a2', 'ls_provider': 'openai', 'ls_model_name': 'gpt-4.1-nano', 'ls_model_type': 'chat', 'ls_temperature': None}, 'parent_ids': ['8941b627-f680-4801-8d6b-90579053280b', '8ea1836c-0fcf-43a3-9456-798c619ec3b1']}\n",
      "{'event': 'on_chat_model_stream', 'data': {'chunk': AIMessageChunk(content='', additional_kwargs={'tool_calls': [{'index': 0, 'id': None, 'function': {'arguments': '-', 'name': None}, 'type': None}]}, response_metadata={}, id='run--0dc33640-9505-44db-b928-e76c7f503610', invalid_tool_calls=[{'name': None, 'args': '-', 'id': None, 'error': None, 'type': 'invalid_tool_call'}], tool_call_chunks=[{'name': None, 'args': '-', 'id': None, 'index': 0, 'type': 'tool_call_chunk'}])}, 'run_id': '0dc33640-9505-44db-b928-e76c7f503610', 'name': 'ChatOpenAI', 'tags': ['seq:step:1'], 'metadata': {'thread_id': 2, 'langgraph_step': 1, 'langgraph_node': 'model', 'langgraph_triggers': ('branch:to:model',), 'langgraph_path': ('__pregel_pull', 'model'), 'langgraph_checkpoint_ns': 'model:93f7a5b1-e5c2-68f7-4075-8f55a03668a2', 'checkpoint_ns': 'model:93f7a5b1-e5c2-68f7-4075-8f55a03668a2', 'ls_provider': 'openai', 'ls_model_name': 'gpt-4.1-nano', 'ls_model_type': 'chat', 'ls_temperature': None}, 'parent_ids': ['8941b627-f680-4801-8d6b-90579053280b', '8ea1836c-0fcf-43a3-9456-798c619ec3b1']}\n",
      "{'event': 'on_chat_model_stream', 'data': {'chunk': AIMessageChunk(content='', additional_kwargs={'tool_calls': [{'index': 0, 'id': None, 'function': {'arguments': '20', 'name': None}, 'type': None}]}, response_metadata={}, id='run--0dc33640-9505-44db-b928-e76c7f503610', invalid_tool_calls=[{'name': None, 'args': '20', 'id': None, 'error': None, 'type': 'invalid_tool_call'}], tool_call_chunks=[{'name': None, 'args': '20', 'id': None, 'index': 0, 'type': 'tool_call_chunk'}])}, 'run_id': '0dc33640-9505-44db-b928-e76c7f503610', 'name': 'ChatOpenAI', 'tags': ['seq:step:1'], 'metadata': {'thread_id': 2, 'langgraph_step': 1, 'langgraph_node': 'model', 'langgraph_triggers': ('branch:to:model',), 'langgraph_path': ('__pregel_pull', 'model'), 'langgraph_checkpoint_ns': 'model:93f7a5b1-e5c2-68f7-4075-8f55a03668a2', 'checkpoint_ns': 'model:93f7a5b1-e5c2-68f7-4075-8f55a03668a2', 'ls_provider': 'openai', 'ls_model_name': 'gpt-4.1-nano', 'ls_model_type': 'chat', 'ls_temperature': None}, 'parent_ids': ['8941b627-f680-4801-8d6b-90579053280b', '8ea1836c-0fcf-43a3-9456-798c619ec3b1']}\n",
      "{'event': 'on_chat_model_stream', 'data': {'chunk': AIMessageChunk(content='', additional_kwargs={'tool_calls': [{'index': 0, 'id': None, 'function': {'arguments': '\"}', 'name': None}, 'type': None}]}, response_metadata={}, id='run--0dc33640-9505-44db-b928-e76c7f503610', invalid_tool_calls=[{'name': None, 'args': '\"}', 'id': None, 'error': None, 'type': 'invalid_tool_call'}], tool_call_chunks=[{'name': None, 'args': '\"}', 'id': None, 'index': 0, 'type': 'tool_call_chunk'}])}, 'run_id': '0dc33640-9505-44db-b928-e76c7f503610', 'name': 'ChatOpenAI', 'tags': ['seq:step:1'], 'metadata': {'thread_id': 2, 'langgraph_step': 1, 'langgraph_node': 'model', 'langgraph_triggers': ('branch:to:model',), 'langgraph_path': ('__pregel_pull', 'model'), 'langgraph_checkpoint_ns': 'model:93f7a5b1-e5c2-68f7-4075-8f55a03668a2', 'checkpoint_ns': 'model:93f7a5b1-e5c2-68f7-4075-8f55a03668a2', 'ls_provider': 'openai', 'ls_model_name': 'gpt-4.1-nano', 'ls_model_type': 'chat', 'ls_temperature': None}, 'parent_ids': ['8941b627-f680-4801-8d6b-90579053280b', '8ea1836c-0fcf-43a3-9456-798c619ec3b1']}\n",
      "{'event': 'on_chat_model_stream', 'data': {'chunk': AIMessageChunk(content='', additional_kwargs={}, response_metadata={'finish_reason': 'tool_calls', 'model_name': 'gpt-4.1-nano-2025-04-14', 'system_fingerprint': 'fp_eede8f0d45', 'service_tier': 'default'}, id='run--0dc33640-9505-44db-b928-e76c7f503610')}, 'run_id': '0dc33640-9505-44db-b928-e76c7f503610', 'name': 'ChatOpenAI', 'tags': ['seq:step:1'], 'metadata': {'thread_id': 2, 'langgraph_step': 1, 'langgraph_node': 'model', 'langgraph_triggers': ('branch:to:model',), 'langgraph_path': ('__pregel_pull', 'model'), 'langgraph_checkpoint_ns': 'model:93f7a5b1-e5c2-68f7-4075-8f55a03668a2', 'checkpoint_ns': 'model:93f7a5b1-e5c2-68f7-4075-8f55a03668a2', 'ls_provider': 'openai', 'ls_model_name': 'gpt-4.1-nano', 'ls_model_type': 'chat', 'ls_temperature': None}, 'parent_ids': ['8941b627-f680-4801-8d6b-90579053280b', '8ea1836c-0fcf-43a3-9456-798c619ec3b1']}\n",
      "{'event': 'on_chat_model_end', 'data': {'output': AIMessage(content='', additional_kwargs={'tool_calls': [{'index': 0, 'id': 'call_as1pBiJtlZH2kydjZYPVzMoq', 'function': {'arguments': '{\"a\":\"ABC-AGG\",\"b\":\"2025-03-20\"}', 'name': 'data_fetch_tool'}, 'type': 'function'}]}, response_metadata={'finish_reason': 'tool_calls', 'model_name': 'gpt-4.1-nano-2025-04-14', 'system_fingerprint': 'fp_eede8f0d45', 'service_tier': 'default'}, id='run--0dc33640-9505-44db-b928-e76c7f503610', tool_calls=[{'name': 'data_fetch_tool', 'args': {'a': 'ABC-AGG', 'b': '2025-03-20'}, 'id': 'call_as1pBiJtlZH2kydjZYPVzMoq', 'type': 'tool_call'}]), 'input': {'messages': [[HumanMessage(content='can you fetch data for ABC-AGG for 20 March 2025', additional_kwargs={}, response_metadata={}, id='58566cc6-5365-41d8-ab88-2d4d5786e8a8')]]}}, 'run_id': '0dc33640-9505-44db-b928-e76c7f503610', 'name': 'ChatOpenAI', 'tags': ['seq:step:1'], 'metadata': {'thread_id': 2, 'langgraph_step': 1, 'langgraph_node': 'model', 'langgraph_triggers': ('branch:to:model',), 'langgraph_path': ('__pregel_pull', 'model'), 'langgraph_checkpoint_ns': 'model:93f7a5b1-e5c2-68f7-4075-8f55a03668a2', 'checkpoint_ns': 'model:93f7a5b1-e5c2-68f7-4075-8f55a03668a2', 'ls_provider': 'openai', 'ls_model_name': 'gpt-4.1-nano', 'ls_model_type': 'chat', 'ls_temperature': None}, 'parent_ids': ['8941b627-f680-4801-8d6b-90579053280b', '8ea1836c-0fcf-43a3-9456-798c619ec3b1']}\n",
      "{'event': 'on_chain_start', 'data': {'input': {'messages': [HumanMessage(content='can you fetch data for ABC-AGG for 20 March 2025', additional_kwargs={}, response_metadata={}, id='58566cc6-5365-41d8-ab88-2d4d5786e8a8'), AIMessage(content='', additional_kwargs={'tool_calls': [{'index': 0, 'id': 'call_as1pBiJtlZH2kydjZYPVzMoq', 'function': {'arguments': '{\"a\":\"ABC-AGG\",\"b\":\"2025-03-20\"}', 'name': 'data_fetch_tool'}, 'type': 'function'}]}, response_metadata={'finish_reason': 'tool_calls', 'model_name': 'gpt-4.1-nano-2025-04-14', 'system_fingerprint': 'fp_eede8f0d45', 'service_tier': 'default'}, id='run--0dc33640-9505-44db-b928-e76c7f503610', tool_calls=[{'name': 'data_fetch_tool', 'args': {'a': 'ABC-AGG', 'b': '2025-03-20'}, 'id': 'call_as1pBiJtlZH2kydjZYPVzMoq', 'type': 'tool_call'}])]}}, 'name': 'tools_router', 'tags': ['seq:step:3'], 'run_id': '0c86607e-5f94-4181-96f3-15cf2d75fd96', 'metadata': {'thread_id': 2, 'langgraph_step': 1, 'langgraph_node': 'model', 'langgraph_triggers': ('branch:to:model',), 'langgraph_path': ('__pregel_pull', 'model'), 'langgraph_checkpoint_ns': 'model:93f7a5b1-e5c2-68f7-4075-8f55a03668a2'}, 'parent_ids': ['8941b627-f680-4801-8d6b-90579053280b', '8ea1836c-0fcf-43a3-9456-798c619ec3b1']}\n",
      "{'event': 'on_chain_end', 'data': {'output': 'tool_node', 'input': {'messages': [HumanMessage(content='can you fetch data for ABC-AGG for 20 March 2025', additional_kwargs={}, response_metadata={}, id='58566cc6-5365-41d8-ab88-2d4d5786e8a8'), AIMessage(content='', additional_kwargs={'tool_calls': [{'index': 0, 'id': 'call_as1pBiJtlZH2kydjZYPVzMoq', 'function': {'arguments': '{\"a\":\"ABC-AGG\",\"b\":\"2025-03-20\"}', 'name': 'data_fetch_tool'}, 'type': 'function'}]}, response_metadata={'finish_reason': 'tool_calls', 'model_name': 'gpt-4.1-nano-2025-04-14', 'system_fingerprint': 'fp_eede8f0d45', 'service_tier': 'default'}, id='run--0dc33640-9505-44db-b928-e76c7f503610', tool_calls=[{'name': 'data_fetch_tool', 'args': {'a': 'ABC-AGG', 'b': '2025-03-20'}, 'id': 'call_as1pBiJtlZH2kydjZYPVzMoq', 'type': 'tool_call'}])]}}, 'run_id': '0c86607e-5f94-4181-96f3-15cf2d75fd96', 'name': 'tools_router', 'tags': ['seq:step:3'], 'metadata': {'thread_id': 2, 'langgraph_step': 1, 'langgraph_node': 'model', 'langgraph_triggers': ('branch:to:model',), 'langgraph_path': ('__pregel_pull', 'model'), 'langgraph_checkpoint_ns': 'model:93f7a5b1-e5c2-68f7-4075-8f55a03668a2'}, 'parent_ids': ['8941b627-f680-4801-8d6b-90579053280b', '8ea1836c-0fcf-43a3-9456-798c619ec3b1']}\n",
      "{'event': 'on_chain_stream', 'run_id': '8ea1836c-0fcf-43a3-9456-798c619ec3b1', 'name': 'model', 'tags': ['graph:step:1'], 'metadata': {'thread_id': 2, 'langgraph_step': 1, 'langgraph_node': 'model', 'langgraph_triggers': ('branch:to:model',), 'langgraph_path': ('__pregel_pull', 'model'), 'langgraph_checkpoint_ns': 'model:93f7a5b1-e5c2-68f7-4075-8f55a03668a2'}, 'data': {'chunk': {'messages': [AIMessage(content='', additional_kwargs={'tool_calls': [{'index': 0, 'id': 'call_as1pBiJtlZH2kydjZYPVzMoq', 'function': {'arguments': '{\"a\":\"ABC-AGG\",\"b\":\"2025-03-20\"}', 'name': 'data_fetch_tool'}, 'type': 'function'}]}, response_metadata={'finish_reason': 'tool_calls', 'model_name': 'gpt-4.1-nano-2025-04-14', 'system_fingerprint': 'fp_eede8f0d45', 'service_tier': 'default'}, id='run--0dc33640-9505-44db-b928-e76c7f503610', tool_calls=[{'name': 'data_fetch_tool', 'args': {'a': 'ABC-AGG', 'b': '2025-03-20'}, 'id': 'call_as1pBiJtlZH2kydjZYPVzMoq', 'type': 'tool_call'}])]}}, 'parent_ids': ['8941b627-f680-4801-8d6b-90579053280b']}\n",
      "{'event': 'on_chain_end', 'data': {'output': {'messages': [AIMessage(content='', additional_kwargs={'tool_calls': [{'index': 0, 'id': 'call_as1pBiJtlZH2kydjZYPVzMoq', 'function': {'arguments': '{\"a\":\"ABC-AGG\",\"b\":\"2025-03-20\"}', 'name': 'data_fetch_tool'}, 'type': 'function'}]}, response_metadata={'finish_reason': 'tool_calls', 'model_name': 'gpt-4.1-nano-2025-04-14', 'system_fingerprint': 'fp_eede8f0d45', 'service_tier': 'default'}, id='run--0dc33640-9505-44db-b928-e76c7f503610', tool_calls=[{'name': 'data_fetch_tool', 'args': {'a': 'ABC-AGG', 'b': '2025-03-20'}, 'id': 'call_as1pBiJtlZH2kydjZYPVzMoq', 'type': 'tool_call'}])]}, 'input': {'messages': [HumanMessage(content='can you fetch data for ABC-AGG for 20 March 2025', additional_kwargs={}, response_metadata={}, id='58566cc6-5365-41d8-ab88-2d4d5786e8a8')]}}, 'run_id': '8ea1836c-0fcf-43a3-9456-798c619ec3b1', 'name': 'model', 'tags': ['graph:step:1'], 'metadata': {'thread_id': 2, 'langgraph_step': 1, 'langgraph_node': 'model', 'langgraph_triggers': ('branch:to:model',), 'langgraph_path': ('__pregel_pull', 'model'), 'langgraph_checkpoint_ns': 'model:93f7a5b1-e5c2-68f7-4075-8f55a03668a2'}, 'parent_ids': ['8941b627-f680-4801-8d6b-90579053280b']}\n",
      "{'event': 'on_chain_stream', 'run_id': '8941b627-f680-4801-8d6b-90579053280b', 'name': 'LangGraph', 'tags': [], 'metadata': {'thread_id': 2}, 'data': {'chunk': {'model': {'messages': [AIMessage(content='', additional_kwargs={'tool_calls': [{'index': 0, 'id': 'call_as1pBiJtlZH2kydjZYPVzMoq', 'function': {'arguments': '{\"a\":\"ABC-AGG\",\"b\":\"2025-03-20\"}', 'name': 'data_fetch_tool'}, 'type': 'function'}]}, response_metadata={'finish_reason': 'tool_calls', 'model_name': 'gpt-4.1-nano-2025-04-14', 'system_fingerprint': 'fp_eede8f0d45', 'service_tier': 'default'}, id='run--0dc33640-9505-44db-b928-e76c7f503610', tool_calls=[{'name': 'data_fetch_tool', 'args': {'a': 'ABC-AGG', 'b': '2025-03-20'}, 'id': 'call_as1pBiJtlZH2kydjZYPVzMoq', 'type': 'tool_call'}])]}}}, 'parent_ids': []}\n",
      "{'event': 'on_chain_start', 'data': {'input': {'messages': [HumanMessage(content='can you fetch data for ABC-AGG for 20 March 2025', additional_kwargs={}, response_metadata={}, id='58566cc6-5365-41d8-ab88-2d4d5786e8a8'), AIMessage(content='', additional_kwargs={'tool_calls': [{'index': 0, 'id': 'call_as1pBiJtlZH2kydjZYPVzMoq', 'function': {'arguments': '{\"a\":\"ABC-AGG\",\"b\":\"2025-03-20\"}', 'name': 'data_fetch_tool'}, 'type': 'function'}]}, response_metadata={'finish_reason': 'tool_calls', 'model_name': 'gpt-4.1-nano-2025-04-14', 'system_fingerprint': 'fp_eede8f0d45', 'service_tier': 'default'}, id='run--0dc33640-9505-44db-b928-e76c7f503610', tool_calls=[{'name': 'data_fetch_tool', 'args': {'a': 'ABC-AGG', 'b': '2025-03-20'}, 'id': 'call_as1pBiJtlZH2kydjZYPVzMoq', 'type': 'tool_call'}])]}}, 'name': 'tool_node', 'tags': ['graph:step:2'], 'run_id': 'ad455c5d-2e13-4917-bc68-28280d4932df', 'metadata': {'thread_id': 2, 'langgraph_step': 2, 'langgraph_node': 'tool_node', 'langgraph_triggers': ('branch:to:tool_node',), 'langgraph_path': ('__pregel_pull', 'tool_node'), 'langgraph_checkpoint_ns': 'tool_node:6f3d7a17-c249-f1de-4ca4-ca429abcd853'}, 'parent_ids': ['8941b627-f680-4801-8d6b-90579053280b']}\n",
      "{'event': 'on_tool_start', 'data': {'input': {'a': 'ABC-AGG', 'b': '2025-03-20'}}, 'name': 'data_fetch_tool', 'tags': ['seq:step:1'], 'run_id': '500b93aa-8dc9-4f65-a220-6c0b06074582', 'metadata': {'thread_id': 2, 'langgraph_step': 2, 'langgraph_node': 'tool_node', 'langgraph_triggers': ('branch:to:tool_node',), 'langgraph_path': ('__pregel_pull', 'tool_node'), 'langgraph_checkpoint_ns': 'tool_node:6f3d7a17-c249-f1de-4ca4-ca429abcd853', 'checkpoint_ns': 'tool_node:6f3d7a17-c249-f1de-4ca4-ca429abcd853'}, 'parent_ids': ['8941b627-f680-4801-8d6b-90579053280b', 'ad455c5d-2e13-4917-bc68-28280d4932df']}\n",
      "{'event': 'on_tool_end', 'data': {'output': 'ABC-AGG_2025-03-20', 'input': {'a': 'ABC-AGG', 'b': '2025-03-20'}}, 'run_id': '500b93aa-8dc9-4f65-a220-6c0b06074582', 'name': 'data_fetch_tool', 'tags': ['seq:step:1'], 'metadata': {'thread_id': 2, 'langgraph_step': 2, 'langgraph_node': 'tool_node', 'langgraph_triggers': ('branch:to:tool_node',), 'langgraph_path': ('__pregel_pull', 'tool_node'), 'langgraph_checkpoint_ns': 'tool_node:6f3d7a17-c249-f1de-4ca4-ca429abcd853', 'checkpoint_ns': 'tool_node:6f3d7a17-c249-f1de-4ca4-ca429abcd853'}, 'parent_ids': ['8941b627-f680-4801-8d6b-90579053280b', 'ad455c5d-2e13-4917-bc68-28280d4932df']}\n",
      "{'event': 'on_chain_stream', 'run_id': 'ad455c5d-2e13-4917-bc68-28280d4932df', 'name': 'tool_node', 'tags': ['graph:step:2'], 'metadata': {'thread_id': 2, 'langgraph_step': 2, 'langgraph_node': 'tool_node', 'langgraph_triggers': ('branch:to:tool_node',), 'langgraph_path': ('__pregel_pull', 'tool_node'), 'langgraph_checkpoint_ns': 'tool_node:6f3d7a17-c249-f1de-4ca4-ca429abcd853'}, 'data': {'chunk': {'messages': [ToolMessage(content='ABC-AGG_2025-03-20', name='data_fetch_tool', tool_call_id='call_as1pBiJtlZH2kydjZYPVzMoq')]}}, 'parent_ids': ['8941b627-f680-4801-8d6b-90579053280b']}\n",
      "{'event': 'on_chain_end', 'data': {'output': {'messages': [ToolMessage(content='ABC-AGG_2025-03-20', name='data_fetch_tool', tool_call_id='call_as1pBiJtlZH2kydjZYPVzMoq')]}, 'input': {'messages': [HumanMessage(content='can you fetch data for ABC-AGG for 20 March 2025', additional_kwargs={}, response_metadata={}, id='58566cc6-5365-41d8-ab88-2d4d5786e8a8'), AIMessage(content='', additional_kwargs={'tool_calls': [{'index': 0, 'id': 'call_as1pBiJtlZH2kydjZYPVzMoq', 'function': {'arguments': '{\"a\":\"ABC-AGG\",\"b\":\"2025-03-20\"}', 'name': 'data_fetch_tool'}, 'type': 'function'}]}, response_metadata={'finish_reason': 'tool_calls', 'model_name': 'gpt-4.1-nano-2025-04-14', 'system_fingerprint': 'fp_eede8f0d45', 'service_tier': 'default'}, id='run--0dc33640-9505-44db-b928-e76c7f503610', tool_calls=[{'name': 'data_fetch_tool', 'args': {'a': 'ABC-AGG', 'b': '2025-03-20'}, 'id': 'call_as1pBiJtlZH2kydjZYPVzMoq', 'type': 'tool_call'}])]}}, 'run_id': 'ad455c5d-2e13-4917-bc68-28280d4932df', 'name': 'tool_node', 'tags': ['graph:step:2'], 'metadata': {'thread_id': 2, 'langgraph_step': 2, 'langgraph_node': 'tool_node', 'langgraph_triggers': ('branch:to:tool_node',), 'langgraph_path': ('__pregel_pull', 'tool_node'), 'langgraph_checkpoint_ns': 'tool_node:6f3d7a17-c249-f1de-4ca4-ca429abcd853'}, 'parent_ids': ['8941b627-f680-4801-8d6b-90579053280b']}\n",
      "{'event': 'on_chain_stream', 'run_id': '8941b627-f680-4801-8d6b-90579053280b', 'name': 'LangGraph', 'tags': [], 'metadata': {'thread_id': 2}, 'data': {'chunk': {'tool_node': {'messages': [ToolMessage(content='ABC-AGG_2025-03-20', name='data_fetch_tool', id='dc975df7-ab73-4e22-88c9-7ea71b9a6d96', tool_call_id='call_as1pBiJtlZH2kydjZYPVzMoq')]}}}, 'parent_ids': []}\n",
      "{'event': 'on_chain_start', 'data': {'input': {'messages': [HumanMessage(content='can you fetch data for ABC-AGG for 20 March 2025', additional_kwargs={}, response_metadata={}, id='58566cc6-5365-41d8-ab88-2d4d5786e8a8'), AIMessage(content='', additional_kwargs={'tool_calls': [{'index': 0, 'id': 'call_as1pBiJtlZH2kydjZYPVzMoq', 'function': {'arguments': '{\"a\":\"ABC-AGG\",\"b\":\"2025-03-20\"}', 'name': 'data_fetch_tool'}, 'type': 'function'}]}, response_metadata={'finish_reason': 'tool_calls', 'model_name': 'gpt-4.1-nano-2025-04-14', 'system_fingerprint': 'fp_eede8f0d45', 'service_tier': 'default'}, id='run--0dc33640-9505-44db-b928-e76c7f503610', tool_calls=[{'name': 'data_fetch_tool', 'args': {'a': 'ABC-AGG', 'b': '2025-03-20'}, 'id': 'call_as1pBiJtlZH2kydjZYPVzMoq', 'type': 'tool_call'}]), ToolMessage(content='ABC-AGG_2025-03-20', name='data_fetch_tool', id='dc975df7-ab73-4e22-88c9-7ea71b9a6d96', tool_call_id='call_as1pBiJtlZH2kydjZYPVzMoq')]}}, 'name': 'model', 'tags': ['graph:step:3'], 'run_id': 'a812c25a-4cd6-4c5b-9b81-e9a9c643ccb8', 'metadata': {'thread_id': 2, 'langgraph_step': 3, 'langgraph_node': 'model', 'langgraph_triggers': ('branch:to:model',), 'langgraph_path': ('__pregel_pull', 'model'), 'langgraph_checkpoint_ns': 'model:8eeb0e8b-c644-e5b3-b890-a8ee382ddbb1'}, 'parent_ids': ['8941b627-f680-4801-8d6b-90579053280b']}\n",
      "{'event': 'on_chat_model_start', 'data': {'input': {'messages': [[HumanMessage(content='can you fetch data for ABC-AGG for 20 March 2025', additional_kwargs={}, response_metadata={}, id='58566cc6-5365-41d8-ab88-2d4d5786e8a8'), AIMessage(content='', additional_kwargs={'tool_calls': [{'index': 0, 'id': 'call_as1pBiJtlZH2kydjZYPVzMoq', 'function': {'arguments': '{\"a\":\"ABC-AGG\",\"b\":\"2025-03-20\"}', 'name': 'data_fetch_tool'}, 'type': 'function'}]}, response_metadata={'finish_reason': 'tool_calls', 'model_name': 'gpt-4.1-nano-2025-04-14', 'system_fingerprint': 'fp_eede8f0d45', 'service_tier': 'default'}, id='run--0dc33640-9505-44db-b928-e76c7f503610', tool_calls=[{'name': 'data_fetch_tool', 'args': {'a': 'ABC-AGG', 'b': '2025-03-20'}, 'id': 'call_as1pBiJtlZH2kydjZYPVzMoq', 'type': 'tool_call'}]), ToolMessage(content='ABC-AGG_2025-03-20', name='data_fetch_tool', id='dc975df7-ab73-4e22-88c9-7ea71b9a6d96', tool_call_id='call_as1pBiJtlZH2kydjZYPVzMoq')]]}}, 'name': 'ChatOpenAI', 'tags': ['seq:step:1'], 'run_id': '1c3bff54-8a7a-4887-bf54-6b596495796b', 'metadata': {'thread_id': 2, 'langgraph_step': 3, 'langgraph_node': 'model', 'langgraph_triggers': ('branch:to:model',), 'langgraph_path': ('__pregel_pull', 'model'), 'langgraph_checkpoint_ns': 'model:8eeb0e8b-c644-e5b3-b890-a8ee382ddbb1', 'checkpoint_ns': 'model:8eeb0e8b-c644-e5b3-b890-a8ee382ddbb1', 'ls_provider': 'openai', 'ls_model_name': 'gpt-4.1-nano', 'ls_model_type': 'chat', 'ls_temperature': None}, 'parent_ids': ['8941b627-f680-4801-8d6b-90579053280b', 'a812c25a-4cd6-4c5b-9b81-e9a9c643ccb8']}\n",
      "{'event': 'on_chat_model_stream', 'data': {'chunk': AIMessageChunk(content='', additional_kwargs={}, response_metadata={}, id='run--1c3bff54-8a7a-4887-bf54-6b596495796b')}, 'run_id': '1c3bff54-8a7a-4887-bf54-6b596495796b', 'name': 'ChatOpenAI', 'tags': ['seq:step:1'], 'metadata': {'thread_id': 2, 'langgraph_step': 3, 'langgraph_node': 'model', 'langgraph_triggers': ('branch:to:model',), 'langgraph_path': ('__pregel_pull', 'model'), 'langgraph_checkpoint_ns': 'model:8eeb0e8b-c644-e5b3-b890-a8ee382ddbb1', 'checkpoint_ns': 'model:8eeb0e8b-c644-e5b3-b890-a8ee382ddbb1', 'ls_provider': 'openai', 'ls_model_name': 'gpt-4.1-nano', 'ls_model_type': 'chat', 'ls_temperature': None}, 'parent_ids': ['8941b627-f680-4801-8d6b-90579053280b', 'a812c25a-4cd6-4c5b-9b81-e9a9c643ccb8']}\n",
      "{'event': 'on_chat_model_stream', 'data': {'chunk': AIMessageChunk(content='I', additional_kwargs={}, response_metadata={}, id='run--1c3bff54-8a7a-4887-bf54-6b596495796b')}, 'run_id': '1c3bff54-8a7a-4887-bf54-6b596495796b', 'name': 'ChatOpenAI', 'tags': ['seq:step:1'], 'metadata': {'thread_id': 2, 'langgraph_step': 3, 'langgraph_node': 'model', 'langgraph_triggers': ('branch:to:model',), 'langgraph_path': ('__pregel_pull', 'model'), 'langgraph_checkpoint_ns': 'model:8eeb0e8b-c644-e5b3-b890-a8ee382ddbb1', 'checkpoint_ns': 'model:8eeb0e8b-c644-e5b3-b890-a8ee382ddbb1', 'ls_provider': 'openai', 'ls_model_name': 'gpt-4.1-nano', 'ls_model_type': 'chat', 'ls_temperature': None}, 'parent_ids': ['8941b627-f680-4801-8d6b-90579053280b', 'a812c25a-4cd6-4c5b-9b81-e9a9c643ccb8']}\n",
      "{'event': 'on_chat_model_stream', 'data': {'chunk': AIMessageChunk(content=' have', additional_kwargs={}, response_metadata={}, id='run--1c3bff54-8a7a-4887-bf54-6b596495796b')}, 'run_id': '1c3bff54-8a7a-4887-bf54-6b596495796b', 'name': 'ChatOpenAI', 'tags': ['seq:step:1'], 'metadata': {'thread_id': 2, 'langgraph_step': 3, 'langgraph_node': 'model', 'langgraph_triggers': ('branch:to:model',), 'langgraph_path': ('__pregel_pull', 'model'), 'langgraph_checkpoint_ns': 'model:8eeb0e8b-c644-e5b3-b890-a8ee382ddbb1', 'checkpoint_ns': 'model:8eeb0e8b-c644-e5b3-b890-a8ee382ddbb1', 'ls_provider': 'openai', 'ls_model_name': 'gpt-4.1-nano', 'ls_model_type': 'chat', 'ls_temperature': None}, 'parent_ids': ['8941b627-f680-4801-8d6b-90579053280b', 'a812c25a-4cd6-4c5b-9b81-e9a9c643ccb8']}\n",
      "{'event': 'on_chat_model_stream', 'data': {'chunk': AIMessageChunk(content=' fetched', additional_kwargs={}, response_metadata={}, id='run--1c3bff54-8a7a-4887-bf54-6b596495796b')}, 'run_id': '1c3bff54-8a7a-4887-bf54-6b596495796b', 'name': 'ChatOpenAI', 'tags': ['seq:step:1'], 'metadata': {'thread_id': 2, 'langgraph_step': 3, 'langgraph_node': 'model', 'langgraph_triggers': ('branch:to:model',), 'langgraph_path': ('__pregel_pull', 'model'), 'langgraph_checkpoint_ns': 'model:8eeb0e8b-c644-e5b3-b890-a8ee382ddbb1', 'checkpoint_ns': 'model:8eeb0e8b-c644-e5b3-b890-a8ee382ddbb1', 'ls_provider': 'openai', 'ls_model_name': 'gpt-4.1-nano', 'ls_model_type': 'chat', 'ls_temperature': None}, 'parent_ids': ['8941b627-f680-4801-8d6b-90579053280b', 'a812c25a-4cd6-4c5b-9b81-e9a9c643ccb8']}\n",
      "{'event': 'on_chat_model_stream', 'data': {'chunk': AIMessageChunk(content=' the', additional_kwargs={}, response_metadata={}, id='run--1c3bff54-8a7a-4887-bf54-6b596495796b')}, 'run_id': '1c3bff54-8a7a-4887-bf54-6b596495796b', 'name': 'ChatOpenAI', 'tags': ['seq:step:1'], 'metadata': {'thread_id': 2, 'langgraph_step': 3, 'langgraph_node': 'model', 'langgraph_triggers': ('branch:to:model',), 'langgraph_path': ('__pregel_pull', 'model'), 'langgraph_checkpoint_ns': 'model:8eeb0e8b-c644-e5b3-b890-a8ee382ddbb1', 'checkpoint_ns': 'model:8eeb0e8b-c644-e5b3-b890-a8ee382ddbb1', 'ls_provider': 'openai', 'ls_model_name': 'gpt-4.1-nano', 'ls_model_type': 'chat', 'ls_temperature': None}, 'parent_ids': ['8941b627-f680-4801-8d6b-90579053280b', 'a812c25a-4cd6-4c5b-9b81-e9a9c643ccb8']}\n",
      "{'event': 'on_chat_model_stream', 'data': {'chunk': AIMessageChunk(content=' data', additional_kwargs={}, response_metadata={}, id='run--1c3bff54-8a7a-4887-bf54-6b596495796b')}, 'run_id': '1c3bff54-8a7a-4887-bf54-6b596495796b', 'name': 'ChatOpenAI', 'tags': ['seq:step:1'], 'metadata': {'thread_id': 2, 'langgraph_step': 3, 'langgraph_node': 'model', 'langgraph_triggers': ('branch:to:model',), 'langgraph_path': ('__pregel_pull', 'model'), 'langgraph_checkpoint_ns': 'model:8eeb0e8b-c644-e5b3-b890-a8ee382ddbb1', 'checkpoint_ns': 'model:8eeb0e8b-c644-e5b3-b890-a8ee382ddbb1', 'ls_provider': 'openai', 'ls_model_name': 'gpt-4.1-nano', 'ls_model_type': 'chat', 'ls_temperature': None}, 'parent_ids': ['8941b627-f680-4801-8d6b-90579053280b', 'a812c25a-4cd6-4c5b-9b81-e9a9c643ccb8']}\n",
      "{'event': 'on_chat_model_stream', 'data': {'chunk': AIMessageChunk(content=' for', additional_kwargs={}, response_metadata={}, id='run--1c3bff54-8a7a-4887-bf54-6b596495796b')}, 'run_id': '1c3bff54-8a7a-4887-bf54-6b596495796b', 'name': 'ChatOpenAI', 'tags': ['seq:step:1'], 'metadata': {'thread_id': 2, 'langgraph_step': 3, 'langgraph_node': 'model', 'langgraph_triggers': ('branch:to:model',), 'langgraph_path': ('__pregel_pull', 'model'), 'langgraph_checkpoint_ns': 'model:8eeb0e8b-c644-e5b3-b890-a8ee382ddbb1', 'checkpoint_ns': 'model:8eeb0e8b-c644-e5b3-b890-a8ee382ddbb1', 'ls_provider': 'openai', 'ls_model_name': 'gpt-4.1-nano', 'ls_model_type': 'chat', 'ls_temperature': None}, 'parent_ids': ['8941b627-f680-4801-8d6b-90579053280b', 'a812c25a-4cd6-4c5b-9b81-e9a9c643ccb8']}\n",
      "{'event': 'on_chat_model_stream', 'data': {'chunk': AIMessageChunk(content=' ABC', additional_kwargs={}, response_metadata={}, id='run--1c3bff54-8a7a-4887-bf54-6b596495796b')}, 'run_id': '1c3bff54-8a7a-4887-bf54-6b596495796b', 'name': 'ChatOpenAI', 'tags': ['seq:step:1'], 'metadata': {'thread_id': 2, 'langgraph_step': 3, 'langgraph_node': 'model', 'langgraph_triggers': ('branch:to:model',), 'langgraph_path': ('__pregel_pull', 'model'), 'langgraph_checkpoint_ns': 'model:8eeb0e8b-c644-e5b3-b890-a8ee382ddbb1', 'checkpoint_ns': 'model:8eeb0e8b-c644-e5b3-b890-a8ee382ddbb1', 'ls_provider': 'openai', 'ls_model_name': 'gpt-4.1-nano', 'ls_model_type': 'chat', 'ls_temperature': None}, 'parent_ids': ['8941b627-f680-4801-8d6b-90579053280b', 'a812c25a-4cd6-4c5b-9b81-e9a9c643ccb8']}\n",
      "{'event': 'on_chat_model_stream', 'data': {'chunk': AIMessageChunk(content='-', additional_kwargs={}, response_metadata={}, id='run--1c3bff54-8a7a-4887-bf54-6b596495796b')}, 'run_id': '1c3bff54-8a7a-4887-bf54-6b596495796b', 'name': 'ChatOpenAI', 'tags': ['seq:step:1'], 'metadata': {'thread_id': 2, 'langgraph_step': 3, 'langgraph_node': 'model', 'langgraph_triggers': ('branch:to:model',), 'langgraph_path': ('__pregel_pull', 'model'), 'langgraph_checkpoint_ns': 'model:8eeb0e8b-c644-e5b3-b890-a8ee382ddbb1', 'checkpoint_ns': 'model:8eeb0e8b-c644-e5b3-b890-a8ee382ddbb1', 'ls_provider': 'openai', 'ls_model_name': 'gpt-4.1-nano', 'ls_model_type': 'chat', 'ls_temperature': None}, 'parent_ids': ['8941b627-f680-4801-8d6b-90579053280b', 'a812c25a-4cd6-4c5b-9b81-e9a9c643ccb8']}\n",
      "{'event': 'on_chat_model_stream', 'data': {'chunk': AIMessageChunk(content='AG', additional_kwargs={}, response_metadata={}, id='run--1c3bff54-8a7a-4887-bf54-6b596495796b')}, 'run_id': '1c3bff54-8a7a-4887-bf54-6b596495796b', 'name': 'ChatOpenAI', 'tags': ['seq:step:1'], 'metadata': {'thread_id': 2, 'langgraph_step': 3, 'langgraph_node': 'model', 'langgraph_triggers': ('branch:to:model',), 'langgraph_path': ('__pregel_pull', 'model'), 'langgraph_checkpoint_ns': 'model:8eeb0e8b-c644-e5b3-b890-a8ee382ddbb1', 'checkpoint_ns': 'model:8eeb0e8b-c644-e5b3-b890-a8ee382ddbb1', 'ls_provider': 'openai', 'ls_model_name': 'gpt-4.1-nano', 'ls_model_type': 'chat', 'ls_temperature': None}, 'parent_ids': ['8941b627-f680-4801-8d6b-90579053280b', 'a812c25a-4cd6-4c5b-9b81-e9a9c643ccb8']}\n",
      "{'event': 'on_chat_model_stream', 'data': {'chunk': AIMessageChunk(content='G', additional_kwargs={}, response_metadata={}, id='run--1c3bff54-8a7a-4887-bf54-6b596495796b')}, 'run_id': '1c3bff54-8a7a-4887-bf54-6b596495796b', 'name': 'ChatOpenAI', 'tags': ['seq:step:1'], 'metadata': {'thread_id': 2, 'langgraph_step': 3, 'langgraph_node': 'model', 'langgraph_triggers': ('branch:to:model',), 'langgraph_path': ('__pregel_pull', 'model'), 'langgraph_checkpoint_ns': 'model:8eeb0e8b-c644-e5b3-b890-a8ee382ddbb1', 'checkpoint_ns': 'model:8eeb0e8b-c644-e5b3-b890-a8ee382ddbb1', 'ls_provider': 'openai', 'ls_model_name': 'gpt-4.1-nano', 'ls_model_type': 'chat', 'ls_temperature': None}, 'parent_ids': ['8941b627-f680-4801-8d6b-90579053280b', 'a812c25a-4cd6-4c5b-9b81-e9a9c643ccb8']}\n",
      "{'event': 'on_chat_model_stream', 'data': {'chunk': AIMessageChunk(content=' for', additional_kwargs={}, response_metadata={}, id='run--1c3bff54-8a7a-4887-bf54-6b596495796b')}, 'run_id': '1c3bff54-8a7a-4887-bf54-6b596495796b', 'name': 'ChatOpenAI', 'tags': ['seq:step:1'], 'metadata': {'thread_id': 2, 'langgraph_step': 3, 'langgraph_node': 'model', 'langgraph_triggers': ('branch:to:model',), 'langgraph_path': ('__pregel_pull', 'model'), 'langgraph_checkpoint_ns': 'model:8eeb0e8b-c644-e5b3-b890-a8ee382ddbb1', 'checkpoint_ns': 'model:8eeb0e8b-c644-e5b3-b890-a8ee382ddbb1', 'ls_provider': 'openai', 'ls_model_name': 'gpt-4.1-nano', 'ls_model_type': 'chat', 'ls_temperature': None}, 'parent_ids': ['8941b627-f680-4801-8d6b-90579053280b', 'a812c25a-4cd6-4c5b-9b81-e9a9c643ccb8']}\n",
      "{'event': 'on_chat_model_stream', 'data': {'chunk': AIMessageChunk(content=' March', additional_kwargs={}, response_metadata={}, id='run--1c3bff54-8a7a-4887-bf54-6b596495796b')}, 'run_id': '1c3bff54-8a7a-4887-bf54-6b596495796b', 'name': 'ChatOpenAI', 'tags': ['seq:step:1'], 'metadata': {'thread_id': 2, 'langgraph_step': 3, 'langgraph_node': 'model', 'langgraph_triggers': ('branch:to:model',), 'langgraph_path': ('__pregel_pull', 'model'), 'langgraph_checkpoint_ns': 'model:8eeb0e8b-c644-e5b3-b890-a8ee382ddbb1', 'checkpoint_ns': 'model:8eeb0e8b-c644-e5b3-b890-a8ee382ddbb1', 'ls_provider': 'openai', 'ls_model_name': 'gpt-4.1-nano', 'ls_model_type': 'chat', 'ls_temperature': None}, 'parent_ids': ['8941b627-f680-4801-8d6b-90579053280b', 'a812c25a-4cd6-4c5b-9b81-e9a9c643ccb8']}\n",
      "{'event': 'on_chat_model_stream', 'data': {'chunk': AIMessageChunk(content=' ', additional_kwargs={}, response_metadata={}, id='run--1c3bff54-8a7a-4887-bf54-6b596495796b')}, 'run_id': '1c3bff54-8a7a-4887-bf54-6b596495796b', 'name': 'ChatOpenAI', 'tags': ['seq:step:1'], 'metadata': {'thread_id': 2, 'langgraph_step': 3, 'langgraph_node': 'model', 'langgraph_triggers': ('branch:to:model',), 'langgraph_path': ('__pregel_pull', 'model'), 'langgraph_checkpoint_ns': 'model:8eeb0e8b-c644-e5b3-b890-a8ee382ddbb1', 'checkpoint_ns': 'model:8eeb0e8b-c644-e5b3-b890-a8ee382ddbb1', 'ls_provider': 'openai', 'ls_model_name': 'gpt-4.1-nano', 'ls_model_type': 'chat', 'ls_temperature': None}, 'parent_ids': ['8941b627-f680-4801-8d6b-90579053280b', 'a812c25a-4cd6-4c5b-9b81-e9a9c643ccb8']}\n",
      "{'event': 'on_chat_model_stream', 'data': {'chunk': AIMessageChunk(content='20', additional_kwargs={}, response_metadata={}, id='run--1c3bff54-8a7a-4887-bf54-6b596495796b')}, 'run_id': '1c3bff54-8a7a-4887-bf54-6b596495796b', 'name': 'ChatOpenAI', 'tags': ['seq:step:1'], 'metadata': {'thread_id': 2, 'langgraph_step': 3, 'langgraph_node': 'model', 'langgraph_triggers': ('branch:to:model',), 'langgraph_path': ('__pregel_pull', 'model'), 'langgraph_checkpoint_ns': 'model:8eeb0e8b-c644-e5b3-b890-a8ee382ddbb1', 'checkpoint_ns': 'model:8eeb0e8b-c644-e5b3-b890-a8ee382ddbb1', 'ls_provider': 'openai', 'ls_model_name': 'gpt-4.1-nano', 'ls_model_type': 'chat', 'ls_temperature': None}, 'parent_ids': ['8941b627-f680-4801-8d6b-90579053280b', 'a812c25a-4cd6-4c5b-9b81-e9a9c643ccb8']}\n",
      "{'event': 'on_chat_model_stream', 'data': {'chunk': AIMessageChunk(content=',', additional_kwargs={}, response_metadata={}, id='run--1c3bff54-8a7a-4887-bf54-6b596495796b')}, 'run_id': '1c3bff54-8a7a-4887-bf54-6b596495796b', 'name': 'ChatOpenAI', 'tags': ['seq:step:1'], 'metadata': {'thread_id': 2, 'langgraph_step': 3, 'langgraph_node': 'model', 'langgraph_triggers': ('branch:to:model',), 'langgraph_path': ('__pregel_pull', 'model'), 'langgraph_checkpoint_ns': 'model:8eeb0e8b-c644-e5b3-b890-a8ee382ddbb1', 'checkpoint_ns': 'model:8eeb0e8b-c644-e5b3-b890-a8ee382ddbb1', 'ls_provider': 'openai', 'ls_model_name': 'gpt-4.1-nano', 'ls_model_type': 'chat', 'ls_temperature': None}, 'parent_ids': ['8941b627-f680-4801-8d6b-90579053280b', 'a812c25a-4cd6-4c5b-9b81-e9a9c643ccb8']}\n",
      "{'event': 'on_chat_model_stream', 'data': {'chunk': AIMessageChunk(content=' ', additional_kwargs={}, response_metadata={}, id='run--1c3bff54-8a7a-4887-bf54-6b596495796b')}, 'run_id': '1c3bff54-8a7a-4887-bf54-6b596495796b', 'name': 'ChatOpenAI', 'tags': ['seq:step:1'], 'metadata': {'thread_id': 2, 'langgraph_step': 3, 'langgraph_node': 'model', 'langgraph_triggers': ('branch:to:model',), 'langgraph_path': ('__pregel_pull', 'model'), 'langgraph_checkpoint_ns': 'model:8eeb0e8b-c644-e5b3-b890-a8ee382ddbb1', 'checkpoint_ns': 'model:8eeb0e8b-c644-e5b3-b890-a8ee382ddbb1', 'ls_provider': 'openai', 'ls_model_name': 'gpt-4.1-nano', 'ls_model_type': 'chat', 'ls_temperature': None}, 'parent_ids': ['8941b627-f680-4801-8d6b-90579053280b', 'a812c25a-4cd6-4c5b-9b81-e9a9c643ccb8']}\n",
      "{'event': 'on_chat_model_stream', 'data': {'chunk': AIMessageChunk(content='202', additional_kwargs={}, response_metadata={}, id='run--1c3bff54-8a7a-4887-bf54-6b596495796b')}, 'run_id': '1c3bff54-8a7a-4887-bf54-6b596495796b', 'name': 'ChatOpenAI', 'tags': ['seq:step:1'], 'metadata': {'thread_id': 2, 'langgraph_step': 3, 'langgraph_node': 'model', 'langgraph_triggers': ('branch:to:model',), 'langgraph_path': ('__pregel_pull', 'model'), 'langgraph_checkpoint_ns': 'model:8eeb0e8b-c644-e5b3-b890-a8ee382ddbb1', 'checkpoint_ns': 'model:8eeb0e8b-c644-e5b3-b890-a8ee382ddbb1', 'ls_provider': 'openai', 'ls_model_name': 'gpt-4.1-nano', 'ls_model_type': 'chat', 'ls_temperature': None}, 'parent_ids': ['8941b627-f680-4801-8d6b-90579053280b', 'a812c25a-4cd6-4c5b-9b81-e9a9c643ccb8']}\n",
      "{'event': 'on_chat_model_stream', 'data': {'chunk': AIMessageChunk(content='5', additional_kwargs={}, response_metadata={}, id='run--1c3bff54-8a7a-4887-bf54-6b596495796b')}, 'run_id': '1c3bff54-8a7a-4887-bf54-6b596495796b', 'name': 'ChatOpenAI', 'tags': ['seq:step:1'], 'metadata': {'thread_id': 2, 'langgraph_step': 3, 'langgraph_node': 'model', 'langgraph_triggers': ('branch:to:model',), 'langgraph_path': ('__pregel_pull', 'model'), 'langgraph_checkpoint_ns': 'model:8eeb0e8b-c644-e5b3-b890-a8ee382ddbb1', 'checkpoint_ns': 'model:8eeb0e8b-c644-e5b3-b890-a8ee382ddbb1', 'ls_provider': 'openai', 'ls_model_name': 'gpt-4.1-nano', 'ls_model_type': 'chat', 'ls_temperature': None}, 'parent_ids': ['8941b627-f680-4801-8d6b-90579053280b', 'a812c25a-4cd6-4c5b-9b81-e9a9c643ccb8']}\n",
      "{'event': 'on_chat_model_stream', 'data': {'chunk': AIMessageChunk(content='.', additional_kwargs={}, response_metadata={}, id='run--1c3bff54-8a7a-4887-bf54-6b596495796b')}, 'run_id': '1c3bff54-8a7a-4887-bf54-6b596495796b', 'name': 'ChatOpenAI', 'tags': ['seq:step:1'], 'metadata': {'thread_id': 2, 'langgraph_step': 3, 'langgraph_node': 'model', 'langgraph_triggers': ('branch:to:model',), 'langgraph_path': ('__pregel_pull', 'model'), 'langgraph_checkpoint_ns': 'model:8eeb0e8b-c644-e5b3-b890-a8ee382ddbb1', 'checkpoint_ns': 'model:8eeb0e8b-c644-e5b3-b890-a8ee382ddbb1', 'ls_provider': 'openai', 'ls_model_name': 'gpt-4.1-nano', 'ls_model_type': 'chat', 'ls_temperature': None}, 'parent_ids': ['8941b627-f680-4801-8d6b-90579053280b', 'a812c25a-4cd6-4c5b-9b81-e9a9c643ccb8']}\n",
      "{'event': 'on_chat_model_stream', 'data': {'chunk': AIMessageChunk(content=' Would', additional_kwargs={}, response_metadata={}, id='run--1c3bff54-8a7a-4887-bf54-6b596495796b')}, 'run_id': '1c3bff54-8a7a-4887-bf54-6b596495796b', 'name': 'ChatOpenAI', 'tags': ['seq:step:1'], 'metadata': {'thread_id': 2, 'langgraph_step': 3, 'langgraph_node': 'model', 'langgraph_triggers': ('branch:to:model',), 'langgraph_path': ('__pregel_pull', 'model'), 'langgraph_checkpoint_ns': 'model:8eeb0e8b-c644-e5b3-b890-a8ee382ddbb1', 'checkpoint_ns': 'model:8eeb0e8b-c644-e5b3-b890-a8ee382ddbb1', 'ls_provider': 'openai', 'ls_model_name': 'gpt-4.1-nano', 'ls_model_type': 'chat', 'ls_temperature': None}, 'parent_ids': ['8941b627-f680-4801-8d6b-90579053280b', 'a812c25a-4cd6-4c5b-9b81-e9a9c643ccb8']}\n",
      "{'event': 'on_chat_model_stream', 'data': {'chunk': AIMessageChunk(content=' you', additional_kwargs={}, response_metadata={}, id='run--1c3bff54-8a7a-4887-bf54-6b596495796b')}, 'run_id': '1c3bff54-8a7a-4887-bf54-6b596495796b', 'name': 'ChatOpenAI', 'tags': ['seq:step:1'], 'metadata': {'thread_id': 2, 'langgraph_step': 3, 'langgraph_node': 'model', 'langgraph_triggers': ('branch:to:model',), 'langgraph_path': ('__pregel_pull', 'model'), 'langgraph_checkpoint_ns': 'model:8eeb0e8b-c644-e5b3-b890-a8ee382ddbb1', 'checkpoint_ns': 'model:8eeb0e8b-c644-e5b3-b890-a8ee382ddbb1', 'ls_provider': 'openai', 'ls_model_name': 'gpt-4.1-nano', 'ls_model_type': 'chat', 'ls_temperature': None}, 'parent_ids': ['8941b627-f680-4801-8d6b-90579053280b', 'a812c25a-4cd6-4c5b-9b81-e9a9c643ccb8']}\n",
      "{'event': 'on_chat_model_stream', 'data': {'chunk': AIMessageChunk(content=' like', additional_kwargs={}, response_metadata={}, id='run--1c3bff54-8a7a-4887-bf54-6b596495796b')}, 'run_id': '1c3bff54-8a7a-4887-bf54-6b596495796b', 'name': 'ChatOpenAI', 'tags': ['seq:step:1'], 'metadata': {'thread_id': 2, 'langgraph_step': 3, 'langgraph_node': 'model', 'langgraph_triggers': ('branch:to:model',), 'langgraph_path': ('__pregel_pull', 'model'), 'langgraph_checkpoint_ns': 'model:8eeb0e8b-c644-e5b3-b890-a8ee382ddbb1', 'checkpoint_ns': 'model:8eeb0e8b-c644-e5b3-b890-a8ee382ddbb1', 'ls_provider': 'openai', 'ls_model_name': 'gpt-4.1-nano', 'ls_model_type': 'chat', 'ls_temperature': None}, 'parent_ids': ['8941b627-f680-4801-8d6b-90579053280b', 'a812c25a-4cd6-4c5b-9b81-e9a9c643ccb8']}\n",
      "{'event': 'on_chat_model_stream', 'data': {'chunk': AIMessageChunk(content=' a', additional_kwargs={}, response_metadata={}, id='run--1c3bff54-8a7a-4887-bf54-6b596495796b')}, 'run_id': '1c3bff54-8a7a-4887-bf54-6b596495796b', 'name': 'ChatOpenAI', 'tags': ['seq:step:1'], 'metadata': {'thread_id': 2, 'langgraph_step': 3, 'langgraph_node': 'model', 'langgraph_triggers': ('branch:to:model',), 'langgraph_path': ('__pregel_pull', 'model'), 'langgraph_checkpoint_ns': 'model:8eeb0e8b-c644-e5b3-b890-a8ee382ddbb1', 'checkpoint_ns': 'model:8eeb0e8b-c644-e5b3-b890-a8ee382ddbb1', 'ls_provider': 'openai', 'ls_model_name': 'gpt-4.1-nano', 'ls_model_type': 'chat', 'ls_temperature': None}, 'parent_ids': ['8941b627-f680-4801-8d6b-90579053280b', 'a812c25a-4cd6-4c5b-9b81-e9a9c643ccb8']}\n",
      "{'event': 'on_chat_model_stream', 'data': {'chunk': AIMessageChunk(content=' summary', additional_kwargs={}, response_metadata={}, id='run--1c3bff54-8a7a-4887-bf54-6b596495796b')}, 'run_id': '1c3bff54-8a7a-4887-bf54-6b596495796b', 'name': 'ChatOpenAI', 'tags': ['seq:step:1'], 'metadata': {'thread_id': 2, 'langgraph_step': 3, 'langgraph_node': 'model', 'langgraph_triggers': ('branch:to:model',), 'langgraph_path': ('__pregel_pull', 'model'), 'langgraph_checkpoint_ns': 'model:8eeb0e8b-c644-e5b3-b890-a8ee382ddbb1', 'checkpoint_ns': 'model:8eeb0e8b-c644-e5b3-b890-a8ee382ddbb1', 'ls_provider': 'openai', 'ls_model_name': 'gpt-4.1-nano', 'ls_model_type': 'chat', 'ls_temperature': None}, 'parent_ids': ['8941b627-f680-4801-8d6b-90579053280b', 'a812c25a-4cd6-4c5b-9b81-e9a9c643ccb8']}\n",
      "{'event': 'on_chat_model_stream', 'data': {'chunk': AIMessageChunk(content=' or', additional_kwargs={}, response_metadata={}, id='run--1c3bff54-8a7a-4887-bf54-6b596495796b')}, 'run_id': '1c3bff54-8a7a-4887-bf54-6b596495796b', 'name': 'ChatOpenAI', 'tags': ['seq:step:1'], 'metadata': {'thread_id': 2, 'langgraph_step': 3, 'langgraph_node': 'model', 'langgraph_triggers': ('branch:to:model',), 'langgraph_path': ('__pregel_pull', 'model'), 'langgraph_checkpoint_ns': 'model:8eeb0e8b-c644-e5b3-b890-a8ee382ddbb1', 'checkpoint_ns': 'model:8eeb0e8b-c644-e5b3-b890-a8ee382ddbb1', 'ls_provider': 'openai', 'ls_model_name': 'gpt-4.1-nano', 'ls_model_type': 'chat', 'ls_temperature': None}, 'parent_ids': ['8941b627-f680-4801-8d6b-90579053280b', 'a812c25a-4cd6-4c5b-9b81-e9a9c643ccb8']}\n",
      "{'event': 'on_chat_model_stream', 'data': {'chunk': AIMessageChunk(content=' specific', additional_kwargs={}, response_metadata={}, id='run--1c3bff54-8a7a-4887-bf54-6b596495796b')}, 'run_id': '1c3bff54-8a7a-4887-bf54-6b596495796b', 'name': 'ChatOpenAI', 'tags': ['seq:step:1'], 'metadata': {'thread_id': 2, 'langgraph_step': 3, 'langgraph_node': 'model', 'langgraph_triggers': ('branch:to:model',), 'langgraph_path': ('__pregel_pull', 'model'), 'langgraph_checkpoint_ns': 'model:8eeb0e8b-c644-e5b3-b890-a8ee382ddbb1', 'checkpoint_ns': 'model:8eeb0e8b-c644-e5b3-b890-a8ee382ddbb1', 'ls_provider': 'openai', 'ls_model_name': 'gpt-4.1-nano', 'ls_model_type': 'chat', 'ls_temperature': None}, 'parent_ids': ['8941b627-f680-4801-8d6b-90579053280b', 'a812c25a-4cd6-4c5b-9b81-e9a9c643ccb8']}\n",
      "{'event': 'on_chat_model_stream', 'data': {'chunk': AIMessageChunk(content=' details', additional_kwargs={}, response_metadata={}, id='run--1c3bff54-8a7a-4887-bf54-6b596495796b')}, 'run_id': '1c3bff54-8a7a-4887-bf54-6b596495796b', 'name': 'ChatOpenAI', 'tags': ['seq:step:1'], 'metadata': {'thread_id': 2, 'langgraph_step': 3, 'langgraph_node': 'model', 'langgraph_triggers': ('branch:to:model',), 'langgraph_path': ('__pregel_pull', 'model'), 'langgraph_checkpoint_ns': 'model:8eeb0e8b-c644-e5b3-b890-a8ee382ddbb1', 'checkpoint_ns': 'model:8eeb0e8b-c644-e5b3-b890-a8ee382ddbb1', 'ls_provider': 'openai', 'ls_model_name': 'gpt-4.1-nano', 'ls_model_type': 'chat', 'ls_temperature': None}, 'parent_ids': ['8941b627-f680-4801-8d6b-90579053280b', 'a812c25a-4cd6-4c5b-9b81-e9a9c643ccb8']}\n",
      "{'event': 'on_chat_model_stream', 'data': {'chunk': AIMessageChunk(content=' from', additional_kwargs={}, response_metadata={}, id='run--1c3bff54-8a7a-4887-bf54-6b596495796b')}, 'run_id': '1c3bff54-8a7a-4887-bf54-6b596495796b', 'name': 'ChatOpenAI', 'tags': ['seq:step:1'], 'metadata': {'thread_id': 2, 'langgraph_step': 3, 'langgraph_node': 'model', 'langgraph_triggers': ('branch:to:model',), 'langgraph_path': ('__pregel_pull', 'model'), 'langgraph_checkpoint_ns': 'model:8eeb0e8b-c644-e5b3-b890-a8ee382ddbb1', 'checkpoint_ns': 'model:8eeb0e8b-c644-e5b3-b890-a8ee382ddbb1', 'ls_provider': 'openai', 'ls_model_name': 'gpt-4.1-nano', 'ls_model_type': 'chat', 'ls_temperature': None}, 'parent_ids': ['8941b627-f680-4801-8d6b-90579053280b', 'a812c25a-4cd6-4c5b-9b81-e9a9c643ccb8']}\n",
      "{'event': 'on_chat_model_stream', 'data': {'chunk': AIMessageChunk(content=' this', additional_kwargs={}, response_metadata={}, id='run--1c3bff54-8a7a-4887-bf54-6b596495796b')}, 'run_id': '1c3bff54-8a7a-4887-bf54-6b596495796b', 'name': 'ChatOpenAI', 'tags': ['seq:step:1'], 'metadata': {'thread_id': 2, 'langgraph_step': 3, 'langgraph_node': 'model', 'langgraph_triggers': ('branch:to:model',), 'langgraph_path': ('__pregel_pull', 'model'), 'langgraph_checkpoint_ns': 'model:8eeb0e8b-c644-e5b3-b890-a8ee382ddbb1', 'checkpoint_ns': 'model:8eeb0e8b-c644-e5b3-b890-a8ee382ddbb1', 'ls_provider': 'openai', 'ls_model_name': 'gpt-4.1-nano', 'ls_model_type': 'chat', 'ls_temperature': None}, 'parent_ids': ['8941b627-f680-4801-8d6b-90579053280b', 'a812c25a-4cd6-4c5b-9b81-e9a9c643ccb8']}\n",
      "{'event': 'on_chat_model_stream', 'data': {'chunk': AIMessageChunk(content=' data', additional_kwargs={}, response_metadata={}, id='run--1c3bff54-8a7a-4887-bf54-6b596495796b')}, 'run_id': '1c3bff54-8a7a-4887-bf54-6b596495796b', 'name': 'ChatOpenAI', 'tags': ['seq:step:1'], 'metadata': {'thread_id': 2, 'langgraph_step': 3, 'langgraph_node': 'model', 'langgraph_triggers': ('branch:to:model',), 'langgraph_path': ('__pregel_pull', 'model'), 'langgraph_checkpoint_ns': 'model:8eeb0e8b-c644-e5b3-b890-a8ee382ddbb1', 'checkpoint_ns': 'model:8eeb0e8b-c644-e5b3-b890-a8ee382ddbb1', 'ls_provider': 'openai', 'ls_model_name': 'gpt-4.1-nano', 'ls_model_type': 'chat', 'ls_temperature': None}, 'parent_ids': ['8941b627-f680-4801-8d6b-90579053280b', 'a812c25a-4cd6-4c5b-9b81-e9a9c643ccb8']}\n",
      "{'event': 'on_chat_model_stream', 'data': {'chunk': AIMessageChunk(content='?', additional_kwargs={}, response_metadata={}, id='run--1c3bff54-8a7a-4887-bf54-6b596495796b')}, 'run_id': '1c3bff54-8a7a-4887-bf54-6b596495796b', 'name': 'ChatOpenAI', 'tags': ['seq:step:1'], 'metadata': {'thread_id': 2, 'langgraph_step': 3, 'langgraph_node': 'model', 'langgraph_triggers': ('branch:to:model',), 'langgraph_path': ('__pregel_pull', 'model'), 'langgraph_checkpoint_ns': 'model:8eeb0e8b-c644-e5b3-b890-a8ee382ddbb1', 'checkpoint_ns': 'model:8eeb0e8b-c644-e5b3-b890-a8ee382ddbb1', 'ls_provider': 'openai', 'ls_model_name': 'gpt-4.1-nano', 'ls_model_type': 'chat', 'ls_temperature': None}, 'parent_ids': ['8941b627-f680-4801-8d6b-90579053280b', 'a812c25a-4cd6-4c5b-9b81-e9a9c643ccb8']}\n",
      "{'event': 'on_chat_model_stream', 'data': {'chunk': AIMessageChunk(content='', additional_kwargs={}, response_metadata={'finish_reason': 'stop', 'model_name': 'gpt-4.1-nano-2025-04-14', 'system_fingerprint': 'fp_eede8f0d45', 'service_tier': 'default'}, id='run--1c3bff54-8a7a-4887-bf54-6b596495796b')}, 'run_id': '1c3bff54-8a7a-4887-bf54-6b596495796b', 'name': 'ChatOpenAI', 'tags': ['seq:step:1'], 'metadata': {'thread_id': 2, 'langgraph_step': 3, 'langgraph_node': 'model', 'langgraph_triggers': ('branch:to:model',), 'langgraph_path': ('__pregel_pull', 'model'), 'langgraph_checkpoint_ns': 'model:8eeb0e8b-c644-e5b3-b890-a8ee382ddbb1', 'checkpoint_ns': 'model:8eeb0e8b-c644-e5b3-b890-a8ee382ddbb1', 'ls_provider': 'openai', 'ls_model_name': 'gpt-4.1-nano', 'ls_model_type': 'chat', 'ls_temperature': None}, 'parent_ids': ['8941b627-f680-4801-8d6b-90579053280b', 'a812c25a-4cd6-4c5b-9b81-e9a9c643ccb8']}\n",
      "{'event': 'on_chat_model_end', 'data': {'output': AIMessage(content='I have fetched the data for ABC-AGG for March 20, 2025. Would you like a summary or specific details from this data?', additional_kwargs={}, response_metadata={'finish_reason': 'stop', 'model_name': 'gpt-4.1-nano-2025-04-14', 'system_fingerprint': 'fp_eede8f0d45', 'service_tier': 'default'}, id='run--1c3bff54-8a7a-4887-bf54-6b596495796b'), 'input': {'messages': [[HumanMessage(content='can you fetch data for ABC-AGG for 20 March 2025', additional_kwargs={}, response_metadata={}, id='58566cc6-5365-41d8-ab88-2d4d5786e8a8'), AIMessage(content='', additional_kwargs={'tool_calls': [{'index': 0, 'id': 'call_as1pBiJtlZH2kydjZYPVzMoq', 'function': {'arguments': '{\"a\":\"ABC-AGG\",\"b\":\"2025-03-20\"}', 'name': 'data_fetch_tool'}, 'type': 'function'}]}, response_metadata={'finish_reason': 'tool_calls', 'model_name': 'gpt-4.1-nano-2025-04-14', 'system_fingerprint': 'fp_eede8f0d45', 'service_tier': 'default'}, id='run--0dc33640-9505-44db-b928-e76c7f503610', tool_calls=[{'name': 'data_fetch_tool', 'args': {'a': 'ABC-AGG', 'b': '2025-03-20'}, 'id': 'call_as1pBiJtlZH2kydjZYPVzMoq', 'type': 'tool_call'}]), ToolMessage(content='ABC-AGG_2025-03-20', name='data_fetch_tool', id='dc975df7-ab73-4e22-88c9-7ea71b9a6d96', tool_call_id='call_as1pBiJtlZH2kydjZYPVzMoq')]]}}, 'run_id': '1c3bff54-8a7a-4887-bf54-6b596495796b', 'name': 'ChatOpenAI', 'tags': ['seq:step:1'], 'metadata': {'thread_id': 2, 'langgraph_step': 3, 'langgraph_node': 'model', 'langgraph_triggers': ('branch:to:model',), 'langgraph_path': ('__pregel_pull', 'model'), 'langgraph_checkpoint_ns': 'model:8eeb0e8b-c644-e5b3-b890-a8ee382ddbb1', 'checkpoint_ns': 'model:8eeb0e8b-c644-e5b3-b890-a8ee382ddbb1', 'ls_provider': 'openai', 'ls_model_name': 'gpt-4.1-nano', 'ls_model_type': 'chat', 'ls_temperature': None}, 'parent_ids': ['8941b627-f680-4801-8d6b-90579053280b', 'a812c25a-4cd6-4c5b-9b81-e9a9c643ccb8']}\n",
      "{'event': 'on_chain_start', 'data': {'input': {'messages': [HumanMessage(content='can you fetch data for ABC-AGG for 20 March 2025', additional_kwargs={}, response_metadata={}, id='58566cc6-5365-41d8-ab88-2d4d5786e8a8'), AIMessage(content='', additional_kwargs={'tool_calls': [{'index': 0, 'id': 'call_as1pBiJtlZH2kydjZYPVzMoq', 'function': {'arguments': '{\"a\":\"ABC-AGG\",\"b\":\"2025-03-20\"}', 'name': 'data_fetch_tool'}, 'type': 'function'}]}, response_metadata={'finish_reason': 'tool_calls', 'model_name': 'gpt-4.1-nano-2025-04-14', 'system_fingerprint': 'fp_eede8f0d45', 'service_tier': 'default'}, id='run--0dc33640-9505-44db-b928-e76c7f503610', tool_calls=[{'name': 'data_fetch_tool', 'args': {'a': 'ABC-AGG', 'b': '2025-03-20'}, 'id': 'call_as1pBiJtlZH2kydjZYPVzMoq', 'type': 'tool_call'}]), ToolMessage(content='ABC-AGG_2025-03-20', name='data_fetch_tool', id='dc975df7-ab73-4e22-88c9-7ea71b9a6d96', tool_call_id='call_as1pBiJtlZH2kydjZYPVzMoq'), AIMessage(content='I have fetched the data for ABC-AGG for March 20, 2025. Would you like a summary or specific details from this data?', additional_kwargs={}, response_metadata={'finish_reason': 'stop', 'model_name': 'gpt-4.1-nano-2025-04-14', 'system_fingerprint': 'fp_eede8f0d45', 'service_tier': 'default'}, id='run--1c3bff54-8a7a-4887-bf54-6b596495796b')]}}, 'name': 'tools_router', 'tags': ['seq:step:3'], 'run_id': 'f396a880-3fc8-41ab-9972-768a41e58957', 'metadata': {'thread_id': 2, 'langgraph_step': 3, 'langgraph_node': 'model', 'langgraph_triggers': ('branch:to:model',), 'langgraph_path': ('__pregel_pull', 'model'), 'langgraph_checkpoint_ns': 'model:8eeb0e8b-c644-e5b3-b890-a8ee382ddbb1'}, 'parent_ids': ['8941b627-f680-4801-8d6b-90579053280b', 'a812c25a-4cd6-4c5b-9b81-e9a9c643ccb8']}\n",
      "{'event': 'on_chain_end', 'data': {'output': '__end__', 'input': {'messages': [HumanMessage(content='can you fetch data for ABC-AGG for 20 March 2025', additional_kwargs={}, response_metadata={}, id='58566cc6-5365-41d8-ab88-2d4d5786e8a8'), AIMessage(content='', additional_kwargs={'tool_calls': [{'index': 0, 'id': 'call_as1pBiJtlZH2kydjZYPVzMoq', 'function': {'arguments': '{\"a\":\"ABC-AGG\",\"b\":\"2025-03-20\"}', 'name': 'data_fetch_tool'}, 'type': 'function'}]}, response_metadata={'finish_reason': 'tool_calls', 'model_name': 'gpt-4.1-nano-2025-04-14', 'system_fingerprint': 'fp_eede8f0d45', 'service_tier': 'default'}, id='run--0dc33640-9505-44db-b928-e76c7f503610', tool_calls=[{'name': 'data_fetch_tool', 'args': {'a': 'ABC-AGG', 'b': '2025-03-20'}, 'id': 'call_as1pBiJtlZH2kydjZYPVzMoq', 'type': 'tool_call'}]), ToolMessage(content='ABC-AGG_2025-03-20', name='data_fetch_tool', id='dc975df7-ab73-4e22-88c9-7ea71b9a6d96', tool_call_id='call_as1pBiJtlZH2kydjZYPVzMoq'), AIMessage(content='I have fetched the data for ABC-AGG for March 20, 2025. Would you like a summary or specific details from this data?', additional_kwargs={}, response_metadata={'finish_reason': 'stop', 'model_name': 'gpt-4.1-nano-2025-04-14', 'system_fingerprint': 'fp_eede8f0d45', 'service_tier': 'default'}, id='run--1c3bff54-8a7a-4887-bf54-6b596495796b')]}}, 'run_id': 'f396a880-3fc8-41ab-9972-768a41e58957', 'name': 'tools_router', 'tags': ['seq:step:3'], 'metadata': {'thread_id': 2, 'langgraph_step': 3, 'langgraph_node': 'model', 'langgraph_triggers': ('branch:to:model',), 'langgraph_path': ('__pregel_pull', 'model'), 'langgraph_checkpoint_ns': 'model:8eeb0e8b-c644-e5b3-b890-a8ee382ddbb1'}, 'parent_ids': ['8941b627-f680-4801-8d6b-90579053280b', 'a812c25a-4cd6-4c5b-9b81-e9a9c643ccb8']}\n",
      "{'event': 'on_chain_stream', 'run_id': 'a812c25a-4cd6-4c5b-9b81-e9a9c643ccb8', 'name': 'model', 'tags': ['graph:step:3'], 'metadata': {'thread_id': 2, 'langgraph_step': 3, 'langgraph_node': 'model', 'langgraph_triggers': ('branch:to:model',), 'langgraph_path': ('__pregel_pull', 'model'), 'langgraph_checkpoint_ns': 'model:8eeb0e8b-c644-e5b3-b890-a8ee382ddbb1'}, 'data': {'chunk': {'messages': [AIMessage(content='I have fetched the data for ABC-AGG for March 20, 2025. Would you like a summary or specific details from this data?', additional_kwargs={}, response_metadata={'finish_reason': 'stop', 'model_name': 'gpt-4.1-nano-2025-04-14', 'system_fingerprint': 'fp_eede8f0d45', 'service_tier': 'default'}, id='run--1c3bff54-8a7a-4887-bf54-6b596495796b')]}}, 'parent_ids': ['8941b627-f680-4801-8d6b-90579053280b']}\n",
      "{'event': 'on_chain_end', 'data': {'output': {'messages': [AIMessage(content='I have fetched the data for ABC-AGG for March 20, 2025. Would you like a summary or specific details from this data?', additional_kwargs={}, response_metadata={'finish_reason': 'stop', 'model_name': 'gpt-4.1-nano-2025-04-14', 'system_fingerprint': 'fp_eede8f0d45', 'service_tier': 'default'}, id='run--1c3bff54-8a7a-4887-bf54-6b596495796b')]}, 'input': {'messages': [HumanMessage(content='can you fetch data for ABC-AGG for 20 March 2025', additional_kwargs={}, response_metadata={}, id='58566cc6-5365-41d8-ab88-2d4d5786e8a8'), AIMessage(content='', additional_kwargs={'tool_calls': [{'index': 0, 'id': 'call_as1pBiJtlZH2kydjZYPVzMoq', 'function': {'arguments': '{\"a\":\"ABC-AGG\",\"b\":\"2025-03-20\"}', 'name': 'data_fetch_tool'}, 'type': 'function'}]}, response_metadata={'finish_reason': 'tool_calls', 'model_name': 'gpt-4.1-nano-2025-04-14', 'system_fingerprint': 'fp_eede8f0d45', 'service_tier': 'default'}, id='run--0dc33640-9505-44db-b928-e76c7f503610', tool_calls=[{'name': 'data_fetch_tool', 'args': {'a': 'ABC-AGG', 'b': '2025-03-20'}, 'id': 'call_as1pBiJtlZH2kydjZYPVzMoq', 'type': 'tool_call'}]), ToolMessage(content='ABC-AGG_2025-03-20', name='data_fetch_tool', id='dc975df7-ab73-4e22-88c9-7ea71b9a6d96', tool_call_id='call_as1pBiJtlZH2kydjZYPVzMoq')]}}, 'run_id': 'a812c25a-4cd6-4c5b-9b81-e9a9c643ccb8', 'name': 'model', 'tags': ['graph:step:3'], 'metadata': {'thread_id': 2, 'langgraph_step': 3, 'langgraph_node': 'model', 'langgraph_triggers': ('branch:to:model',), 'langgraph_path': ('__pregel_pull', 'model'), 'langgraph_checkpoint_ns': 'model:8eeb0e8b-c644-e5b3-b890-a8ee382ddbb1'}, 'parent_ids': ['8941b627-f680-4801-8d6b-90579053280b']}\n",
      "{'event': 'on_chain_stream', 'run_id': '8941b627-f680-4801-8d6b-90579053280b', 'name': 'LangGraph', 'tags': [], 'metadata': {'thread_id': 2}, 'data': {'chunk': {'model': {'messages': [AIMessage(content='I have fetched the data for ABC-AGG for March 20, 2025. Would you like a summary or specific details from this data?', additional_kwargs={}, response_metadata={'finish_reason': 'stop', 'model_name': 'gpt-4.1-nano-2025-04-14', 'system_fingerprint': 'fp_eede8f0d45', 'service_tier': 'default'}, id='run--1c3bff54-8a7a-4887-bf54-6b596495796b')]}}}, 'parent_ids': []}\n",
      "{'event': 'on_chain_end', 'data': {'output': {'messages': [HumanMessage(content='can you fetch data for ABC-AGG for 20 March 2025', additional_kwargs={}, response_metadata={}, id='58566cc6-5365-41d8-ab88-2d4d5786e8a8'), AIMessage(content='', additional_kwargs={'tool_calls': [{'index': 0, 'id': 'call_as1pBiJtlZH2kydjZYPVzMoq', 'function': {'arguments': '{\"a\":\"ABC-AGG\",\"b\":\"2025-03-20\"}', 'name': 'data_fetch_tool'}, 'type': 'function'}]}, response_metadata={'finish_reason': 'tool_calls', 'model_name': 'gpt-4.1-nano-2025-04-14', 'system_fingerprint': 'fp_eede8f0d45', 'service_tier': 'default'}, id='run--0dc33640-9505-44db-b928-e76c7f503610', tool_calls=[{'name': 'data_fetch_tool', 'args': {'a': 'ABC-AGG', 'b': '2025-03-20'}, 'id': 'call_as1pBiJtlZH2kydjZYPVzMoq', 'type': 'tool_call'}]), ToolMessage(content='ABC-AGG_2025-03-20', name='data_fetch_tool', id='dc975df7-ab73-4e22-88c9-7ea71b9a6d96', tool_call_id='call_as1pBiJtlZH2kydjZYPVzMoq'), AIMessage(content='I have fetched the data for ABC-AGG for March 20, 2025. Would you like a summary or specific details from this data?', additional_kwargs={}, response_metadata={'finish_reason': 'stop', 'model_name': 'gpt-4.1-nano-2025-04-14', 'system_fingerprint': 'fp_eede8f0d45', 'service_tier': 'default'}, id='run--1c3bff54-8a7a-4887-bf54-6b596495796b')]}}, 'run_id': '8941b627-f680-4801-8d6b-90579053280b', 'name': 'LangGraph', 'tags': [], 'metadata': {'thread_id': 2}, 'parent_ids': []}\n"
     ]
    }
   ],
   "source": [
    "async for event in graph.astream_events({\n",
    "    \"messages\": [HumanMessage(content=\"can you fetch data for ABC-AGG for 20 March 2025\")],\n",
    "}, config=config, version=\"v2\"):\n",
    "    print(event)"
   ]
  },
  {
   "cell_type": "code",
   "execution_count": 5,
   "id": "eaa3c12a",
   "metadata": {},
   "outputs": [
    {
     "data": {
      "text/html": [
       "<div>\n",
       "<style scoped>\n",
       "    .dataframe tbody tr th:only-of-type {\n",
       "        vertical-align: middle;\n",
       "    }\n",
       "\n",
       "    .dataframe tbody tr th {\n",
       "        vertical-align: top;\n",
       "    }\n",
       "\n",
       "    .dataframe thead th {\n",
       "        text-align: right;\n",
       "    }\n",
       "</style>\n",
       "<table border=\"1\" class=\"dataframe\">\n",
       "  <thead>\n",
       "    <tr style=\"text-align: right;\">\n",
       "      <th></th>\n",
       "      <th>a</th>\n",
       "      <th>b</th>\n",
       "    </tr>\n",
       "  </thead>\n",
       "  <tbody>\n",
       "    <tr>\n",
       "      <th>0</th>\n",
       "      <td>1</td>\n",
       "      <td>2025-03-20</td>\n",
       "    </tr>\n",
       "    <tr>\n",
       "      <th>1</th>\n",
       "      <td>2</td>\n",
       "      <td>2025-03-21</td>\n",
       "    </tr>\n",
       "    <tr>\n",
       "      <th>2</th>\n",
       "      <td>3</td>\n",
       "      <td>2025-03-22</td>\n",
       "    </tr>\n",
       "    <tr>\n",
       "      <th>3</th>\n",
       "      <td>4</td>\n",
       "      <td>2025-03-23</td>\n",
       "    </tr>\n",
       "    <tr>\n",
       "      <th>4</th>\n",
       "      <td>5</td>\n",
       "      <td>2025-03-24</td>\n",
       "    </tr>\n",
       "    <tr>\n",
       "      <th>5</th>\n",
       "      <td>6</td>\n",
       "      <td>2025-03-25</td>\n",
       "    </tr>\n",
       "  </tbody>\n",
       "</table>\n",
       "</div>"
      ],
      "text/plain": [
       "   a           b\n",
       "0  1  2025-03-20\n",
       "1  2  2025-03-21\n",
       "2  3  2025-03-22\n",
       "3  4  2025-03-23\n",
       "4  5  2025-03-24\n",
       "5  6  2025-03-25"
      ]
     },
     "execution_count": 5,
     "metadata": {},
     "output_type": "execute_result"
    }
   ],
   "source": []
  },
  {
   "cell_type": "code",
   "execution_count": null,
   "id": "a7d54ce9",
   "metadata": {},
   "outputs": [],
   "source": []
  },
  {
   "cell_type": "code",
   "execution_count": 31,
   "id": "874df4ce",
   "metadata": {},
   "outputs": [],
   "source": [
    "from dotenv import load_dotenv\n",
    "from langchain_openai import ChatOpenAI\n",
    "\n",
    "# Load environment variables\n",
    "load_dotenv()\n",
    "\n",
    "\n",
    "def suggest_followups(user_query):\n",
    "    \"\"\"\n",
    "    Use Together API-compatible GPT model to suggest follow-up questions for a financial chatbot.\n",
    "    \"\"\"\n",
    "    prompt = f\"\"\"\n",
    "    The user asked: \"{user_query}\"\n",
    "\n",
    "    Based on this, suggest 3 intelligent follow-up questions related to financial data,\n",
    "    fund performance, attribution, or risk.\n",
    "\n",
    "    Only return the questions in a bullet list.\n",
    "    \"\"\"\n",
    "    llm = ChatOpenAI(\n",
    "        model = \"gpt-4.1-nano\",\n",
    "        temperature=0.7,\n",
    "        max_tokens=100\n",
    "    )\n",
    "    response = llm.invoke(prompt)\n",
    "    # Process the response and filter out unwanted lines like \"Here are three intelligent follow-up questions\"\n",
    "    raw_lines = response.content.strip().split(\"\\n\")\n",
    "\n",
    "    # Only return lines that appear to be actual questions, removing introductory text\n",
    "    follow_up_questions = [\n",
    "        line.lstrip(\"•-1234567890. \").strip()  # Removes bullet points, numbers, etc.\n",
    "        for line in raw_lines\n",
    "        if \"?\" in line and len(line.strip()) > 5\n",
    "    ]\n",
    "    \n",
    "    return follow_up_questions\n",
    "\n",
    "\n",
    "\n",
    "\n",
    "\n",
    "\n",
    "\n",
    "\n",
    "\n",
    "\n",
    "\n"
   ]
  },
  {
   "cell_type": "code",
   "execution_count": 32,
   "id": "4b53e789",
   "metadata": {},
   "outputs": [],
   "source": [
    "response = suggest_followups(\"whats happening in indians market\")"
   ]
  },
  {
   "cell_type": "code",
   "execution_count": 33,
   "id": "8f884bb6",
   "metadata": {},
   "outputs": [
    {
     "data": {
      "text/plain": [
       "['How are recent macroeconomic developments and policy changes impacting the performance of Indian equity and debt markets?',\n",
       " 'What are the key factors contributing to the recent fund performance trends in the Indian mutual fund industry?',\n",
       " 'How is the current market volatility affecting the risk profiles and asset allocation strategies of Indian investment funds?']"
      ]
     },
     "execution_count": 33,
     "metadata": {},
     "output_type": "execute_result"
    }
   ],
   "source": [
    "response"
   ]
  },
  {
   "cell_type": "code",
   "execution_count": null,
   "id": "f5378a5f",
   "metadata": {},
   "outputs": [],
   "source": []
  }
 ],
 "metadata": {
  "kernelspec": {
   "display_name": ".venv",
   "language": "python",
   "name": "python3"
  },
  "language_info": {
   "codemirror_mode": {
    "name": "ipython",
    "version": 3
   },
   "file_extension": ".py",
   "mimetype": "text/x-python",
   "name": "python",
   "nbconvert_exporter": "python",
   "pygments_lexer": "ipython3",
   "version": "3.13.3"
  }
 },
 "nbformat": 4,
 "nbformat_minor": 5
}
